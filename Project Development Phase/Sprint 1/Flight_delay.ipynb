{
  "cells": [
    {
      "cell_type": "markdown",
      "id": "f6e4e9ad",
      "metadata": {
        "id": "f6e4e9ad"
      },
      "source": [
        "# FLIGHT DELAY PREDICTION USING ML ALGORITHMS"
      ]
    },
    {
      "cell_type": "markdown",
      "id": "e877b392",
      "metadata": {
        "id": "e877b392"
      },
      "source": [
        "## Data Preprocessing"
      ]
    },
    {
      "cell_type": "markdown",
      "id": "cc269032",
      "metadata": {
        "id": "cc269032"
      },
      "source": [
        "#### Importing required libraries"
      ]
    },
    {
      "cell_type": "code",
      "execution_count": null,
      "id": "bc0ca4c9",
      "metadata": {
        "id": "bc0ca4c9"
      },
      "outputs": [],
      "source": [
        "import pandas as pd\n",
        "import numpy as np\n",
        "import matplotlib.pyplot as plt\n",
        "import seaborn as sns"
      ]
    },
    {
      "cell_type": "markdown",
      "id": "e858d037",
      "metadata": {
        "id": "e858d037"
      },
      "source": [
        "#### Importing Data"
      ]
    },
    {
      "cell_type": "code",
      "execution_count": null,
      "id": "d9ed9431",
      "metadata": {
        "id": "d9ed9431"
      },
      "outputs": [],
      "source": [
        "data=pd.read_csv(\"/content/drive/MyDrive/DATASET/flightdata (1).csv\")"
      ]
    },
    {
      "cell_type": "code",
      "source": [
        "from google.colab import drive\n",
        "drive.mount('/content/drive')"
      ],
      "metadata": {
        "colab": {
          "base_uri": "https://localhost:8080/"
        },
        "id": "zT-9W1iESljF",
        "outputId": "3e4e6f82-b709-488c-9c2c-047010f372a5"
      },
      "id": "zT-9W1iESljF",
      "execution_count": null,
      "outputs": [
        {
          "output_type": "stream",
          "name": "stdout",
          "text": [
            "Mounted at /content/drive\n"
          ]
        }
      ]
    },
    {
      "cell_type": "code",
      "source": [
        "data=pd.read_csv(\"/content/drive/MyDrive/DATASET/flightdata (1).csv\")"
      ],
      "metadata": {
        "id": "Q_NT7XO_RJop"
      },
      "id": "Q_NT7XO_RJop",
      "execution_count": null,
      "outputs": []
    },
    {
      "cell_type": "code",
      "execution_count": null,
      "id": "5582bb0b",
      "metadata": {
        "colab": {
          "base_uri": "https://localhost:8080/"
        },
        "id": "5582bb0b",
        "outputId": "64cc9876-3241-41d2-8a02-c533485966c0"
      },
      "outputs": [
        {
          "output_type": "stream",
          "name": "stdout",
          "text": [
            "<class 'pandas.core.frame.DataFrame'>\n",
            "RangeIndex: 11231 entries, 0 to 11230\n",
            "Data columns (total 25 columns):\n",
            " #   Column               Non-Null Count  Dtype  \n",
            "---  ------               --------------  -----  \n",
            " 0   YEAR                 11231 non-null  int64  \n",
            " 1   QUARTER              11231 non-null  int64  \n",
            " 2   MONTH                11231 non-null  int64  \n",
            " 3   DAY_OF_MONTH         11231 non-null  int64  \n",
            " 4   DAY_OF_WEEK          11231 non-null  int64  \n",
            " 5   UNIQUE_CARRIER       11231 non-null  object \n",
            " 6   TAIL_NUM             11231 non-null  object \n",
            " 7   FL_NUM               11231 non-null  int64  \n",
            " 8   ORIGIN_AIRPORT_ID    11231 non-null  int64  \n",
            " 9   ORIGIN               11231 non-null  object \n",
            " 10  DEST_AIRPORT_ID      11231 non-null  int64  \n",
            " 11  DEST                 11231 non-null  object \n",
            " 12  CRS_DEP_TIME         11231 non-null  int64  \n",
            " 13  DEP_TIME             11124 non-null  float64\n",
            " 14  DEP_DELAY            11124 non-null  float64\n",
            " 15  DEP_DEL15            11124 non-null  float64\n",
            " 16  CRS_ARR_TIME         11231 non-null  int64  \n",
            " 17  ARR_TIME             11116 non-null  float64\n",
            " 18  ARR_DELAY            11043 non-null  float64\n",
            " 19  ARR_DEL15            11043 non-null  float64\n",
            " 20  CANCELLED            11231 non-null  int64  \n",
            " 21  DIVERTED             11231 non-null  int64  \n",
            " 22  CRS_ELAPSED_TIME     11231 non-null  int64  \n",
            " 23  ACTUAL_ELAPSED_TIME  11043 non-null  float64\n",
            " 24  DISTANCE             11231 non-null  int64  \n",
            "dtypes: float64(7), int64(14), object(4)\n",
            "memory usage: 2.1+ MB\n"
          ]
        }
      ],
      "source": [
        "data.info()"
      ]
    },
    {
      "cell_type": "code",
      "source": [
        "data.head()"
      ],
      "metadata": {
        "id": "Qb5F0hTkTgHu",
        "outputId": "94360d90-8c53-4f21-aa29-b8ad6b2c4b77",
        "colab": {
          "base_uri": "https://localhost:8080/",
          "height": 299
        }
      },
      "id": "Qb5F0hTkTgHu",
      "execution_count": null,
      "outputs": [
        {
          "output_type": "execute_result",
          "data": {
            "text/plain": [
              "   YEAR  QUARTER  MONTH  DAY_OF_MONTH  DAY_OF_WEEK UNIQUE_CARRIER TAIL_NUM  \\\n",
              "0  2016        1      1             1            5             DL   N836DN   \n",
              "1  2016        1      1             1            5             DL   N964DN   \n",
              "2  2016        1      1             1            5             DL   N813DN   \n",
              "3  2016        1      1             1            5             DL   N587NW   \n",
              "4  2016        1      1             1            5             DL   N836DN   \n",
              "\n",
              "   FL_NUM  ORIGIN_AIRPORT_ID ORIGIN  ...  DEP_DEL15 CRS_ARR_TIME  ARR_TIME  \\\n",
              "0    1399              10397    ATL  ...        0.0         2143    2102.0   \n",
              "1    1476              11433    DTW  ...        0.0         1435    1439.0   \n",
              "2    1597              10397    ATL  ...        0.0         1215    1142.0   \n",
              "3    1768              14747    SEA  ...        0.0         1335    1345.0   \n",
              "4    1823              14747    SEA  ...        0.0          607     615.0   \n",
              "\n",
              "   ARR_DELAY  ARR_DEL15  CANCELLED  DIVERTED  CRS_ELAPSED_TIME  \\\n",
              "0      -41.0        0.0          0         0               338   \n",
              "1        4.0        0.0          0         0               110   \n",
              "2      -33.0        0.0          0         0               335   \n",
              "3       10.0        0.0          0         0               196   \n",
              "4        8.0        0.0          0         0               247   \n",
              "\n",
              "   ACTUAL_ELAPSED_TIME  DISTANCE  \n",
              "0                295.0      2182  \n",
              "1                115.0       528  \n",
              "2                300.0      2182  \n",
              "3                205.0      1399  \n",
              "4                259.0      1927  \n",
              "\n",
              "[5 rows x 25 columns]"
            ],
            "text/html": [
              "\n",
              "  <div id=\"df-79149276-decb-445a-9d23-f73bb564d285\">\n",
              "    <div class=\"colab-df-container\">\n",
              "      <div>\n",
              "<style scoped>\n",
              "    .dataframe tbody tr th:only-of-type {\n",
              "        vertical-align: middle;\n",
              "    }\n",
              "\n",
              "    .dataframe tbody tr th {\n",
              "        vertical-align: top;\n",
              "    }\n",
              "\n",
              "    .dataframe thead th {\n",
              "        text-align: right;\n",
              "    }\n",
              "</style>\n",
              "<table border=\"1\" class=\"dataframe\">\n",
              "  <thead>\n",
              "    <tr style=\"text-align: right;\">\n",
              "      <th></th>\n",
              "      <th>YEAR</th>\n",
              "      <th>QUARTER</th>\n",
              "      <th>MONTH</th>\n",
              "      <th>DAY_OF_MONTH</th>\n",
              "      <th>DAY_OF_WEEK</th>\n",
              "      <th>UNIQUE_CARRIER</th>\n",
              "      <th>TAIL_NUM</th>\n",
              "      <th>FL_NUM</th>\n",
              "      <th>ORIGIN_AIRPORT_ID</th>\n",
              "      <th>ORIGIN</th>\n",
              "      <th>...</th>\n",
              "      <th>DEP_DEL15</th>\n",
              "      <th>CRS_ARR_TIME</th>\n",
              "      <th>ARR_TIME</th>\n",
              "      <th>ARR_DELAY</th>\n",
              "      <th>ARR_DEL15</th>\n",
              "      <th>CANCELLED</th>\n",
              "      <th>DIVERTED</th>\n",
              "      <th>CRS_ELAPSED_TIME</th>\n",
              "      <th>ACTUAL_ELAPSED_TIME</th>\n",
              "      <th>DISTANCE</th>\n",
              "    </tr>\n",
              "  </thead>\n",
              "  <tbody>\n",
              "    <tr>\n",
              "      <th>0</th>\n",
              "      <td>2016</td>\n",
              "      <td>1</td>\n",
              "      <td>1</td>\n",
              "      <td>1</td>\n",
              "      <td>5</td>\n",
              "      <td>DL</td>\n",
              "      <td>N836DN</td>\n",
              "      <td>1399</td>\n",
              "      <td>10397</td>\n",
              "      <td>ATL</td>\n",
              "      <td>...</td>\n",
              "      <td>0.0</td>\n",
              "      <td>2143</td>\n",
              "      <td>2102.0</td>\n",
              "      <td>-41.0</td>\n",
              "      <td>0.0</td>\n",
              "      <td>0</td>\n",
              "      <td>0</td>\n",
              "      <td>338</td>\n",
              "      <td>295.0</td>\n",
              "      <td>2182</td>\n",
              "    </tr>\n",
              "    <tr>\n",
              "      <th>1</th>\n",
              "      <td>2016</td>\n",
              "      <td>1</td>\n",
              "      <td>1</td>\n",
              "      <td>1</td>\n",
              "      <td>5</td>\n",
              "      <td>DL</td>\n",
              "      <td>N964DN</td>\n",
              "      <td>1476</td>\n",
              "      <td>11433</td>\n",
              "      <td>DTW</td>\n",
              "      <td>...</td>\n",
              "      <td>0.0</td>\n",
              "      <td>1435</td>\n",
              "      <td>1439.0</td>\n",
              "      <td>4.0</td>\n",
              "      <td>0.0</td>\n",
              "      <td>0</td>\n",
              "      <td>0</td>\n",
              "      <td>110</td>\n",
              "      <td>115.0</td>\n",
              "      <td>528</td>\n",
              "    </tr>\n",
              "    <tr>\n",
              "      <th>2</th>\n",
              "      <td>2016</td>\n",
              "      <td>1</td>\n",
              "      <td>1</td>\n",
              "      <td>1</td>\n",
              "      <td>5</td>\n",
              "      <td>DL</td>\n",
              "      <td>N813DN</td>\n",
              "      <td>1597</td>\n",
              "      <td>10397</td>\n",
              "      <td>ATL</td>\n",
              "      <td>...</td>\n",
              "      <td>0.0</td>\n",
              "      <td>1215</td>\n",
              "      <td>1142.0</td>\n",
              "      <td>-33.0</td>\n",
              "      <td>0.0</td>\n",
              "      <td>0</td>\n",
              "      <td>0</td>\n",
              "      <td>335</td>\n",
              "      <td>300.0</td>\n",
              "      <td>2182</td>\n",
              "    </tr>\n",
              "    <tr>\n",
              "      <th>3</th>\n",
              "      <td>2016</td>\n",
              "      <td>1</td>\n",
              "      <td>1</td>\n",
              "      <td>1</td>\n",
              "      <td>5</td>\n",
              "      <td>DL</td>\n",
              "      <td>N587NW</td>\n",
              "      <td>1768</td>\n",
              "      <td>14747</td>\n",
              "      <td>SEA</td>\n",
              "      <td>...</td>\n",
              "      <td>0.0</td>\n",
              "      <td>1335</td>\n",
              "      <td>1345.0</td>\n",
              "      <td>10.0</td>\n",
              "      <td>0.0</td>\n",
              "      <td>0</td>\n",
              "      <td>0</td>\n",
              "      <td>196</td>\n",
              "      <td>205.0</td>\n",
              "      <td>1399</td>\n",
              "    </tr>\n",
              "    <tr>\n",
              "      <th>4</th>\n",
              "      <td>2016</td>\n",
              "      <td>1</td>\n",
              "      <td>1</td>\n",
              "      <td>1</td>\n",
              "      <td>5</td>\n",
              "      <td>DL</td>\n",
              "      <td>N836DN</td>\n",
              "      <td>1823</td>\n",
              "      <td>14747</td>\n",
              "      <td>SEA</td>\n",
              "      <td>...</td>\n",
              "      <td>0.0</td>\n",
              "      <td>607</td>\n",
              "      <td>615.0</td>\n",
              "      <td>8.0</td>\n",
              "      <td>0.0</td>\n",
              "      <td>0</td>\n",
              "      <td>0</td>\n",
              "      <td>247</td>\n",
              "      <td>259.0</td>\n",
              "      <td>1927</td>\n",
              "    </tr>\n",
              "  </tbody>\n",
              "</table>\n",
              "<p>5 rows × 25 columns</p>\n",
              "</div>\n",
              "      <button class=\"colab-df-convert\" onclick=\"convertToInteractive('df-79149276-decb-445a-9d23-f73bb564d285')\"\n",
              "              title=\"Convert this dataframe to an interactive table.\"\n",
              "              style=\"display:none;\">\n",
              "        \n",
              "  <svg xmlns=\"http://www.w3.org/2000/svg\" height=\"24px\"viewBox=\"0 0 24 24\"\n",
              "       width=\"24px\">\n",
              "    <path d=\"M0 0h24v24H0V0z\" fill=\"none\"/>\n",
              "    <path d=\"M18.56 5.44l.94 2.06.94-2.06 2.06-.94-2.06-.94-.94-2.06-.94 2.06-2.06.94zm-11 1L8.5 8.5l.94-2.06 2.06-.94-2.06-.94L8.5 2.5l-.94 2.06-2.06.94zm10 10l.94 2.06.94-2.06 2.06-.94-2.06-.94-.94-2.06-.94 2.06-2.06.94z\"/><path d=\"M17.41 7.96l-1.37-1.37c-.4-.4-.92-.59-1.43-.59-.52 0-1.04.2-1.43.59L10.3 9.45l-7.72 7.72c-.78.78-.78 2.05 0 2.83L4 21.41c.39.39.9.59 1.41.59.51 0 1.02-.2 1.41-.59l7.78-7.78 2.81-2.81c.8-.78.8-2.07 0-2.86zM5.41 20L4 18.59l7.72-7.72 1.47 1.35L5.41 20z\"/>\n",
              "  </svg>\n",
              "      </button>\n",
              "      \n",
              "  <style>\n",
              "    .colab-df-container {\n",
              "      display:flex;\n",
              "      flex-wrap:wrap;\n",
              "      gap: 12px;\n",
              "    }\n",
              "\n",
              "    .colab-df-convert {\n",
              "      background-color: #E8F0FE;\n",
              "      border: none;\n",
              "      border-radius: 50%;\n",
              "      cursor: pointer;\n",
              "      display: none;\n",
              "      fill: #1967D2;\n",
              "      height: 32px;\n",
              "      padding: 0 0 0 0;\n",
              "      width: 32px;\n",
              "    }\n",
              "\n",
              "    .colab-df-convert:hover {\n",
              "      background-color: #E2EBFA;\n",
              "      box-shadow: 0px 1px 2px rgba(60, 64, 67, 0.3), 0px 1px 3px 1px rgba(60, 64, 67, 0.15);\n",
              "      fill: #174EA6;\n",
              "    }\n",
              "\n",
              "    [theme=dark] .colab-df-convert {\n",
              "      background-color: #3B4455;\n",
              "      fill: #D2E3FC;\n",
              "    }\n",
              "\n",
              "    [theme=dark] .colab-df-convert:hover {\n",
              "      background-color: #434B5C;\n",
              "      box-shadow: 0px 1px 3px 1px rgba(0, 0, 0, 0.15);\n",
              "      filter: drop-shadow(0px 1px 2px rgba(0, 0, 0, 0.3));\n",
              "      fill: #FFFFFF;\n",
              "    }\n",
              "  </style>\n",
              "\n",
              "      <script>\n",
              "        const buttonEl =\n",
              "          document.querySelector('#df-79149276-decb-445a-9d23-f73bb564d285 button.colab-df-convert');\n",
              "        buttonEl.style.display =\n",
              "          google.colab.kernel.accessAllowed ? 'block' : 'none';\n",
              "\n",
              "        async function convertToInteractive(key) {\n",
              "          const element = document.querySelector('#df-79149276-decb-445a-9d23-f73bb564d285');\n",
              "          const dataTable =\n",
              "            await google.colab.kernel.invokeFunction('convertToInteractive',\n",
              "                                                     [key], {});\n",
              "          if (!dataTable) return;\n",
              "\n",
              "          const docLinkHtml = 'Like what you see? Visit the ' +\n",
              "            '<a target=\"_blank\" href=https://colab.research.google.com/notebooks/data_table.ipynb>data table notebook</a>'\n",
              "            + ' to learn more about interactive tables.';\n",
              "          element.innerHTML = '';\n",
              "          dataTable['output_type'] = 'display_data';\n",
              "          await google.colab.output.renderOutput(dataTable, element);\n",
              "          const docLink = document.createElement('div');\n",
              "          docLink.innerHTML = docLinkHtml;\n",
              "          element.appendChild(docLink);\n",
              "        }\n",
              "      </script>\n",
              "    </div>\n",
              "  </div>\n",
              "  "
            ]
          },
          "metadata": {},
          "execution_count": 17
        }
      ]
    },
    {
      "cell_type": "code",
      "execution_count": null,
      "id": "eec1771d",
      "metadata": {
        "id": "eec1771d",
        "outputId": "c7badea2-3be8-4329-99fd-7746bf892148",
        "colab": {
          "base_uri": "https://localhost:8080/"
        }
      },
      "outputs": [
        {
          "output_type": "stream",
          "name": "stdout",
          "text": [
            "<class 'pandas.core.frame.DataFrame'>\n",
            "RangeIndex: 11231 entries, 0 to 11230\n",
            "Data columns (total 25 columns):\n",
            " #   Column               Non-Null Count  Dtype  \n",
            "---  ------               --------------  -----  \n",
            " 0   YEAR                 11231 non-null  int64  \n",
            " 1   QUARTER              11231 non-null  int64  \n",
            " 2   MONTH                11231 non-null  int64  \n",
            " 3   DAY_OF_MONTH         11231 non-null  int64  \n",
            " 4   DAY_OF_WEEK          11231 non-null  int64  \n",
            " 5   UNIQUE_CARRIER       11231 non-null  object \n",
            " 6   TAIL_NUM             11231 non-null  object \n",
            " 7   FL_NUM               11231 non-null  int64  \n",
            " 8   ORIGIN_AIRPORT_ID    11231 non-null  int64  \n",
            " 9   ORIGIN               11231 non-null  object \n",
            " 10  DEST_AIRPORT_ID      11231 non-null  int64  \n",
            " 11  DEST                 11231 non-null  object \n",
            " 12  CRS_DEP_TIME         11231 non-null  int64  \n",
            " 13  DEP_TIME             11124 non-null  float64\n",
            " 14  DEP_DELAY            11124 non-null  float64\n",
            " 15  DEP_DEL15            11124 non-null  float64\n",
            " 16  CRS_ARR_TIME         11231 non-null  int64  \n",
            " 17  ARR_TIME             11116 non-null  float64\n",
            " 18  ARR_DELAY            11043 non-null  float64\n",
            " 19  ARR_DEL15            11043 non-null  float64\n",
            " 20  CANCELLED            11231 non-null  int64  \n",
            " 21  DIVERTED             11231 non-null  int64  \n",
            " 22  CRS_ELAPSED_TIME     11231 non-null  int64  \n",
            " 23  ACTUAL_ELAPSED_TIME  11043 non-null  float64\n",
            " 24  DISTANCE             11231 non-null  int64  \n",
            "dtypes: float64(7), int64(14), object(4)\n",
            "memory usage: 2.1+ MB\n"
          ]
        }
      ],
      "source": [
        "data.info()"
      ]
    },
    {
      "cell_type": "markdown",
      "id": "69c03bf7",
      "metadata": {
        "id": "69c03bf7"
      },
      "source": [
        "### Droping unnecessary columns"
      ]
    },
    {
      "cell_type": "code",
      "execution_count": null,
      "id": "af7fd947",
      "metadata": {
        "id": "af7fd947"
      },
      "outputs": [],
      "source": [
        "data1=data.drop(columns=[\"YEAR\",\"ORIGIN_AIRPORT_ID\",\"DEST_AIRPORT_ID\"])"
      ]
    },
    {
      "cell_type": "code",
      "execution_count": null,
      "id": "2a56b315",
      "metadata": {
        "id": "2a56b315",
        "outputId": "e91863fe-0aaa-48eb-f21d-207e7d15058a"
      },
      "outputs": [
        {
          "data": {
            "text/html": [
              "<div>\n",
              "<style scoped>\n",
              "    .dataframe tbody tr th:only-of-type {\n",
              "        vertical-align: middle;\n",
              "    }\n",
              "\n",
              "    .dataframe tbody tr th {\n",
              "        vertical-align: top;\n",
              "    }\n",
              "\n",
              "    .dataframe thead th {\n",
              "        text-align: right;\n",
              "    }\n",
              "</style>\n",
              "<table border=\"1\" class=\"dataframe\">\n",
              "  <thead>\n",
              "    <tr style=\"text-align: right;\">\n",
              "      <th></th>\n",
              "      <th>QUARTER</th>\n",
              "      <th>MONTH</th>\n",
              "      <th>DAY_OF_MONTH</th>\n",
              "      <th>DAY_OF_WEEK</th>\n",
              "      <th>UNIQUE_CARRIER</th>\n",
              "      <th>TAIL_NUM</th>\n",
              "      <th>FL_NUM</th>\n",
              "      <th>ORIGIN</th>\n",
              "      <th>DEST</th>\n",
              "      <th>CRS_DEP_TIME.1</th>\n",
              "      <th>...</th>\n",
              "      <th>DEP_DEL15</th>\n",
              "      <th>CRS_ARR_TIME.1</th>\n",
              "      <th>ARR_TIME</th>\n",
              "      <th>ARR_DELAY</th>\n",
              "      <th>ARR_DEL15</th>\n",
              "      <th>CANCELLED</th>\n",
              "      <th>DIVERTED</th>\n",
              "      <th>ACTUAL_ELAPSED_TIME1</th>\n",
              "      <th>CRS_ELAPSED_TIME</th>\n",
              "      <th>DISTANCE</th>\n",
              "    </tr>\n",
              "  </thead>\n",
              "  <tbody>\n",
              "    <tr>\n",
              "      <th>0</th>\n",
              "      <td>1</td>\n",
              "      <td>1</td>\n",
              "      <td>1</td>\n",
              "      <td>5</td>\n",
              "      <td>DL</td>\n",
              "      <td>N836DN</td>\n",
              "      <td>1399</td>\n",
              "      <td>ATL</td>\n",
              "      <td>SEA</td>\n",
              "      <td>1905</td>\n",
              "      <td>...</td>\n",
              "      <td>0.0</td>\n",
              "      <td>2143</td>\n",
              "      <td>21:02:00</td>\n",
              "      <td>-41.0</td>\n",
              "      <td>0.0</td>\n",
              "      <td>0</td>\n",
              "      <td>0</td>\n",
              "      <td>04:55:00</td>\n",
              "      <td>338</td>\n",
              "      <td>2182</td>\n",
              "    </tr>\n",
              "    <tr>\n",
              "      <th>1</th>\n",
              "      <td>1</td>\n",
              "      <td>1</td>\n",
              "      <td>1</td>\n",
              "      <td>5</td>\n",
              "      <td>DL</td>\n",
              "      <td>N964DN</td>\n",
              "      <td>1476</td>\n",
              "      <td>DTW</td>\n",
              "      <td>MSP</td>\n",
              "      <td>1345</td>\n",
              "      <td>...</td>\n",
              "      <td>0.0</td>\n",
              "      <td>1435</td>\n",
              "      <td>14:39:00</td>\n",
              "      <td>4.0</td>\n",
              "      <td>0.0</td>\n",
              "      <td>0</td>\n",
              "      <td>0</td>\n",
              "      <td>01:55:00</td>\n",
              "      <td>110</td>\n",
              "      <td>528</td>\n",
              "    </tr>\n",
              "    <tr>\n",
              "      <th>2</th>\n",
              "      <td>1</td>\n",
              "      <td>1</td>\n",
              "      <td>1</td>\n",
              "      <td>5</td>\n",
              "      <td>DL</td>\n",
              "      <td>N813DN</td>\n",
              "      <td>1597</td>\n",
              "      <td>ATL</td>\n",
              "      <td>SEA</td>\n",
              "      <td>940</td>\n",
              "      <td>...</td>\n",
              "      <td>0.0</td>\n",
              "      <td>1215</td>\n",
              "      <td>11:42:00</td>\n",
              "      <td>-33.0</td>\n",
              "      <td>0.0</td>\n",
              "      <td>0</td>\n",
              "      <td>0</td>\n",
              "      <td>05:00:00</td>\n",
              "      <td>335</td>\n",
              "      <td>2182</td>\n",
              "    </tr>\n",
              "    <tr>\n",
              "      <th>3</th>\n",
              "      <td>1</td>\n",
              "      <td>1</td>\n",
              "      <td>1</td>\n",
              "      <td>5</td>\n",
              "      <td>DL</td>\n",
              "      <td>N587NW</td>\n",
              "      <td>1768</td>\n",
              "      <td>SEA</td>\n",
              "      <td>MSP</td>\n",
              "      <td>819</td>\n",
              "      <td>...</td>\n",
              "      <td>0.0</td>\n",
              "      <td>1335</td>\n",
              "      <td>13:45:00</td>\n",
              "      <td>10.0</td>\n",
              "      <td>0.0</td>\n",
              "      <td>0</td>\n",
              "      <td>0</td>\n",
              "      <td>03:25:00</td>\n",
              "      <td>196</td>\n",
              "      <td>1399</td>\n",
              "    </tr>\n",
              "    <tr>\n",
              "      <th>4</th>\n",
              "      <td>1</td>\n",
              "      <td>1</td>\n",
              "      <td>1</td>\n",
              "      <td>5</td>\n",
              "      <td>DL</td>\n",
              "      <td>N836DN</td>\n",
              "      <td>1823</td>\n",
              "      <td>SEA</td>\n",
              "      <td>DTW</td>\n",
              "      <td>2300</td>\n",
              "      <td>...</td>\n",
              "      <td>0.0</td>\n",
              "      <td>607</td>\n",
              "      <td>06:15:00</td>\n",
              "      <td>8.0</td>\n",
              "      <td>0.0</td>\n",
              "      <td>0</td>\n",
              "      <td>0</td>\n",
              "      <td>04:19:00</td>\n",
              "      <td>247</td>\n",
              "      <td>1927</td>\n",
              "    </tr>\n",
              "  </tbody>\n",
              "</table>\n",
              "<p>5 rows × 22 columns</p>\n",
              "</div>"
            ],
            "text/plain": [
              "   QUARTER  MONTH  DAY_OF_MONTH  DAY_OF_WEEK UNIQUE_CARRIER TAIL_NUM  FL_NUM  \\\n",
              "0        1      1             1            5             DL   N836DN    1399   \n",
              "1        1      1             1            5             DL   N964DN    1476   \n",
              "2        1      1             1            5             DL   N813DN    1597   \n",
              "3        1      1             1            5             DL   N587NW    1768   \n",
              "4        1      1             1            5             DL   N836DN    1823   \n",
              "\n",
              "  ORIGIN DEST  CRS_DEP_TIME.1  ... DEP_DEL15  CRS_ARR_TIME.1  ARR_TIME  \\\n",
              "0    ATL  SEA            1905  ...       0.0            2143  21:02:00   \n",
              "1    DTW  MSP            1345  ...       0.0            1435  14:39:00   \n",
              "2    ATL  SEA             940  ...       0.0            1215  11:42:00   \n",
              "3    SEA  MSP             819  ...       0.0            1335  13:45:00   \n",
              "4    SEA  DTW            2300  ...       0.0             607  06:15:00   \n",
              "\n",
              "   ARR_DELAY ARR_DEL15  CANCELLED  DIVERTED  ACTUAL_ELAPSED_TIME1  \\\n",
              "0      -41.0       0.0          0         0              04:55:00   \n",
              "1        4.0       0.0          0         0              01:55:00   \n",
              "2      -33.0       0.0          0         0              05:00:00   \n",
              "3       10.0       0.0          0         0              03:25:00   \n",
              "4        8.0       0.0          0         0              04:19:00   \n",
              "\n",
              "   CRS_ELAPSED_TIME DISTANCE  \n",
              "0               338     2182  \n",
              "1               110      528  \n",
              "2               335     2182  \n",
              "3               196     1399  \n",
              "4               247     1927  \n",
              "\n",
              "[5 rows x 22 columns]"
            ]
          },
          "execution_count": 10,
          "metadata": {},
          "output_type": "execute_result"
        }
      ],
      "source": [
        "data1.head()"
      ]
    },
    {
      "cell_type": "markdown",
      "id": "0772d921",
      "metadata": {
        "id": "0772d921"
      },
      "source": [
        "##### count no of values with respect to unique values of each columns"
      ]
    },
    {
      "cell_type": "code",
      "execution_count": null,
      "id": "acd6f3ba",
      "metadata": {
        "id": "acd6f3ba",
        "outputId": "9e5252d7-aacf-4b86-9fc8-c38c9c26c6f4",
        "colab": {
          "base_uri": "https://localhost:8080/"
        }
      },
      "outputs": [
        {
          "output_type": "stream",
          "name": "stdout",
          "text": [
            "3    3167\n",
            "2    2777\n",
            "4    2745\n",
            "1    2542\n",
            "Name: QUARTER, dtype: int64\n",
            "8     1127\n",
            "7     1078\n",
            "6      979\n",
            "9      962\n",
            "10     955\n",
            "5      916\n",
            "12     899\n",
            "11     891\n",
            "3      885\n",
            "4      882\n",
            "1      860\n",
            "2      797\n",
            "Name: MONTH, dtype: int64\n",
            "8     390\n",
            "23    381\n",
            "28    379\n",
            "11    378\n",
            "14    378\n",
            "21    378\n",
            "22    376\n",
            "26    375\n",
            "18    373\n",
            "9     372\n",
            "2     371\n",
            "10    370\n",
            "15    370\n",
            "12    369\n",
            "19    368\n",
            "27    368\n",
            "5     366\n",
            "17    366\n",
            "16    365\n",
            "24    363\n",
            "1     363\n",
            "13    362\n",
            "20    362\n",
            "29    361\n",
            "25    360\n",
            "4     360\n",
            "6     357\n",
            "7     355\n",
            "3     351\n",
            "30    335\n",
            "31    209\n",
            "Name: DAY_OF_MONTH, dtype: int64\n",
            "5    1668\n",
            "1    1652\n",
            "4    1637\n",
            "3    1624\n",
            "2    1607\n",
            "7    1593\n",
            "6    1450\n",
            "Name: DAY_OF_WEEK, dtype: int64\n",
            "DL    11231\n",
            "Name: UNIQUE_CARRIER, dtype: int64\n",
            "N857DZ    76\n",
            "N856DN    75\n",
            "N581NW    73\n",
            "N582NW    72\n",
            "N584NW    72\n",
            "          ..\n",
            "N906AT     1\n",
            "N801NW     1\n",
            "N612DL     1\n",
            "N328NB     1\n",
            "N301DN     1\n",
            "Name: TAIL_NUM, Length: 789, dtype: int64\n",
            "888     98\n",
            "589     96\n",
            "1991    96\n",
            "588     95\n",
            "902     94\n",
            "        ..\n",
            "2849     1\n",
            "1531     1\n",
            "1493     1\n",
            "1507     1\n",
            "2640     1\n",
            "Name: FL_NUM, Length: 690, dtype: int64\n",
            "ATL    3100\n",
            "MSP    2538\n",
            "DTW    2201\n",
            "SEA    2018\n",
            "JFK    1374\n",
            "Name: ORIGIN, dtype: int64\n",
            "ATL    3221\n",
            "MSP    2493\n",
            "DTW    2211\n",
            "SEA    1994\n",
            "JFK    1312\n",
            "Name: DEST, dtype: int64\n",
            "1205    206\n",
            "700     181\n",
            "600     144\n",
            "725     142\n",
            "830     141\n",
            "       ... \n",
            "928       1\n",
            "1321      1\n",
            "1816      1\n",
            "1557      1\n",
            "917       1\n",
            "Name: CRS_DEP_TIME, Length: 551, dtype: int64\n",
            "1204.0    47\n",
            "828.0     42\n",
            "1753.0    41\n",
            "1503.0    38\n",
            "1203.0    37\n",
            "          ..\n",
            "9.0        1\n",
            "410.0      1\n",
            "401.0      1\n",
            "2150.0     1\n",
            "2136.0     1\n",
            "Name: DEP_TIME, Length: 1176, dtype: int64\n",
            "-2.0      1384\n",
            "-1.0      1306\n",
            "-3.0      1152\n",
            " 0.0      1024\n",
            "-4.0       870\n",
            "          ... \n",
            " 114.0       1\n",
            " 267.0       1\n",
            " 160.0       1\n",
            " 193.0       1\n",
            " 268.0       1\n",
            "Name: DEP_DELAY, Length: 274, dtype: int64\n",
            "0.0    9535\n",
            "1.0    1589\n",
            "Name: DEP_DEL15, dtype: int64\n",
            "1655    81\n",
            "1840    72\n",
            "1945    64\n",
            "1345    54\n",
            "1051    54\n",
            "        ..\n",
            "2141     1\n",
            "1933     1\n",
            "7        1\n",
            "1757     1\n",
            "1821     1\n",
            "Name: CRS_ARR_TIME, Length: 958, dtype: int64\n",
            "1335.0    25\n",
            "1628.0    25\n",
            "1242.0    25\n",
            "1946.0    24\n",
            "1626.0    24\n",
            "          ..\n",
            "104.0      1\n",
            "115.0      1\n",
            "735.0      1\n",
            "31.0       1\n",
            "511.0      1\n",
            "Name: ARR_TIME, Length: 1213, dtype: int64\n",
            "-16.0     354\n",
            "-17.0     328\n",
            "-13.0     324\n",
            "-19.0     320\n",
            "-18.0     311\n",
            "         ... \n",
            " 137.0      1\n",
            " 144.0      1\n",
            " 301.0      1\n",
            " 208.0      1\n",
            " 269.0      1\n",
            "Name: ARR_DELAY, Length: 311, dtype: int64\n",
            "0.0    9668\n",
            "1.0    1375\n",
            "Name: ARR_DEL15, dtype: int64\n",
            "0    11117\n",
            "1      114\n",
            "Name: CANCELLED, dtype: int64\n",
            "0    11157\n",
            "1       74\n",
            "Name: DIVERTED, dtype: int64\n",
            "120    309\n",
            "123    190\n",
            "119    190\n",
            "160    181\n",
            "124    169\n",
            "      ... \n",
            "248      1\n",
            "246      1\n",
            "361      1\n",
            "367      1\n",
            "96       1\n",
            "Name: CRS_ELAPSED_TIME, Length: 275, dtype: int64\n",
            "102.0    141\n",
            "110.0    136\n",
            "105.0    136\n",
            "107.0    136\n",
            "108.0    134\n",
            "        ... \n",
            "78.0       1\n",
            "404.0      1\n",
            "425.0      1\n",
            "400.0      1\n",
            "414.0      1\n",
            "Name: ACTUAL_ELAPSED_TIME, Length: 335, dtype: int64\n",
            "594     1953\n",
            "907     1925\n",
            "528     1396\n",
            "2182    1250\n",
            "760     1193\n",
            "1399    1144\n",
            "1927     877\n",
            "2422     741\n",
            "1029     566\n",
            "509      186\n",
            "Name: DISTANCE, dtype: int64\n"
          ]
        }
      ],
      "source": [
        "for i in data1.columns:\n",
        "    print(data1[i].value_counts())"
      ]
    },
    {
      "cell_type": "code",
      "execution_count": null,
      "id": "17255171",
      "metadata": {
        "id": "17255171",
        "outputId": "9b8d99c1-14ad-4cd1-f5bb-56dacadbe87c",
        "colab": {
          "base_uri": "https://localhost:8080/"
        }
      },
      "outputs": [
        {
          "output_type": "stream",
          "name": "stdout",
          "text": [
            "<class 'pandas.core.frame.DataFrame'>\n",
            "RangeIndex: 11231 entries, 0 to 11230\n",
            "Data columns (total 22 columns):\n",
            " #   Column               Non-Null Count  Dtype  \n",
            "---  ------               --------------  -----  \n",
            " 0   QUARTER              11231 non-null  int64  \n",
            " 1   MONTH                11231 non-null  int64  \n",
            " 2   DAY_OF_MONTH         11231 non-null  int64  \n",
            " 3   DAY_OF_WEEK          11231 non-null  int64  \n",
            " 4   UNIQUE_CARRIER       11231 non-null  object \n",
            " 5   TAIL_NUM             11231 non-null  object \n",
            " 6   FL_NUM               11231 non-null  int64  \n",
            " 7   ORIGIN               11231 non-null  object \n",
            " 8   DEST                 11231 non-null  object \n",
            " 9   CRS_DEP_TIME         11231 non-null  int64  \n",
            " 10  DEP_TIME             11124 non-null  float64\n",
            " 11  DEP_DELAY            11124 non-null  float64\n",
            " 12  DEP_DEL15            11124 non-null  float64\n",
            " 13  CRS_ARR_TIME         11231 non-null  int64  \n",
            " 14  ARR_TIME             11116 non-null  float64\n",
            " 15  ARR_DELAY            11043 non-null  float64\n",
            " 16  ARR_DEL15            11043 non-null  float64\n",
            " 17  CANCELLED            11231 non-null  int64  \n",
            " 18  DIVERTED             11231 non-null  int64  \n",
            " 19  CRS_ELAPSED_TIME     11231 non-null  int64  \n",
            " 20  ACTUAL_ELAPSED_TIME  11043 non-null  float64\n",
            " 21  DISTANCE             11231 non-null  int64  \n",
            "dtypes: float64(7), int64(11), object(4)\n",
            "memory usage: 1.9+ MB\n"
          ]
        }
      ],
      "source": [
        "data1.info()"
      ]
    },
    {
      "cell_type": "code",
      "execution_count": null,
      "id": "0394730c",
      "metadata": {
        "id": "0394730c",
        "outputId": "d02014b5-ad4a-4a45-a162-11529f4e7969",
        "colab": {
          "base_uri": "https://localhost:8080/",
          "height": 612
        }
      },
      "outputs": [
        {
          "output_type": "execute_result",
          "data": {
            "text/plain": [
              "<matplotlib.axes._subplots.AxesSubplot at 0x7fd95a1e97d0>"
            ]
          },
          "metadata": {},
          "execution_count": 23
        },
        {
          "output_type": "display_data",
          "data": {
            "text/plain": [
              "<Figure size 864x576 with 2 Axes>"
            ],
            "image/png": "[encoded data removed]"
          },
          "metadata": {
            "needs_background": "light"
          }
        }
      ],
      "source": [
        "plt.figure(figsize=(12,8))\n",
        "sns.heatmap(data1.corr(),cmap=\"YlGnBu\",annot=True)"
      ]
    },
    {
      "cell_type": "markdown",
      "id": "bf3bb7f4",
      "metadata": {
        "id": "bf3bb7f4"
      },
      "source": [
        "## Data Cleaning\n",
        "### Handling Null Values"
      ]
    },
    {
      "cell_type": "code",
      "execution_count": null,
      "id": "d8df0585",
      "metadata": {
        "id": "d8df0585",
        "outputId": "eb9c5840-1120-49fc-b0fb-0602abd39143",
        "colab": {
          "base_uri": "https://localhost:8080/"
        }
      },
      "outputs": [
        {
          "output_type": "execute_result",
          "data": {
            "text/plain": [
              "QUARTER                  0\n",
              "MONTH                    0\n",
              "DAY_OF_MONTH             0\n",
              "DAY_OF_WEEK              0\n",
              "UNIQUE_CARRIER           0\n",
              "TAIL_NUM                 0\n",
              "FL_NUM                   0\n",
              "ORIGIN                   0\n",
              "DEST                     0\n",
              "CRS_DEP_TIME             0\n",
              "DEP_TIME               107\n",
              "DEP_DELAY              107\n",
              "DEP_DEL15              107\n",
              "CRS_ARR_TIME             0\n",
              "ARR_TIME               115\n",
              "ARR_DELAY              188\n",
              "ARR_DEL15              188\n",
              "CANCELLED                0\n",
              "DIVERTED                 0\n",
              "CRS_ELAPSED_TIME         0\n",
              "ACTUAL_ELAPSED_TIME    188\n",
              "DISTANCE                 0\n",
              "dtype: int64"
            ]
          },
          "metadata": {},
          "execution_count": 24
        }
      ],
      "source": [
        "data1.isna().sum()"
      ]
    },
    {
      "cell_type": "code",
      "execution_count": null,
      "id": "5d29b312",
      "metadata": {
        "id": "5d29b312",
        "outputId": "7bee43bc-17b6-487f-c62c-972e839f9cdf",
        "colab": {
          "base_uri": "https://localhost:8080/"
        }
      },
      "outputs": [
        {
          "output_type": "execute_result",
          "data": {
            "text/plain": [
              "0"
            ]
          },
          "metadata": {},
          "execution_count": 25
        }
      ],
      "source": [
        "data1.duplicated().sum()"
      ]
    },
    {
      "cell_type": "code",
      "execution_count": null,
      "id": "5f822830",
      "metadata": {
        "id": "5f822830",
        "outputId": "05e2178d-e9df-4602-acc9-f469a329942b",
        "colab": {
          "base_uri": "https://localhost:8080/"
        }
      },
      "outputs": [
        {
          "output_type": "execute_result",
          "data": {
            "text/plain": [
              "(QUARTER                False\n",
              " MONTH                  False\n",
              " DAY_OF_MONTH           False\n",
              " DAY_OF_WEEK            False\n",
              " UNIQUE_CARRIER         False\n",
              " TAIL_NUM               False\n",
              " FL_NUM                 False\n",
              " ORIGIN                 False\n",
              " DEST                   False\n",
              " CRS_DEP_TIME           False\n",
              " DEP_TIME                True\n",
              " DEP_DELAY               True\n",
              " DEP_DEL15               True\n",
              " CRS_ARR_TIME           False\n",
              " ARR_TIME                True\n",
              " ARR_DELAY               True\n",
              " ARR_DEL15               True\n",
              " CANCELLED              False\n",
              " DIVERTED               False\n",
              " CRS_ELAPSED_TIME       False\n",
              " ACTUAL_ELAPSED_TIME     True\n",
              " DISTANCE               False\n",
              " Name: 179, dtype: bool, QUARTER                     1\n",
              " MONTH                       1\n",
              " DAY_OF_MONTH               10\n",
              " DAY_OF_WEEK                 7\n",
              " UNIQUE_CARRIER             DL\n",
              " TAIL_NUM               N924DN\n",
              " FL_NUM                     86\n",
              " ORIGIN                    MSP\n",
              " DEST                      DTW\n",
              " CRS_DEP_TIME             1348\n",
              " DEP_TIME                  NaN\n",
              " DEP_DELAY                 NaN\n",
              " DEP_DEL15                 NaN\n",
              " CRS_ARR_TIME             1632\n",
              " ARR_TIME                  NaN\n",
              " ARR_DELAY                 NaN\n",
              " ARR_DEL15                 NaN\n",
              " CANCELLED                   1\n",
              " DIVERTED                    0\n",
              " CRS_ELAPSED_TIME          104\n",
              " ACTUAL_ELAPSED_TIME       NaN\n",
              " DISTANCE                  528\n",
              " Name: 179, dtype: object)"
            ]
          },
          "metadata": {},
          "execution_count": 26
        }
      ],
      "source": [
        "data1.iloc[179,:].isnull(),data1.iloc[179,:]"
      ]
    },
    {
      "cell_type": "markdown",
      "id": "64211a6e",
      "metadata": {
        "id": "64211a6e"
      },
      "source": [
        "data1[\"date\"]=data1[\"DAY_OF_MONTH\"].astype(\"str\")+\"/\"+data1[\"MONTH\"].astype(\"str\")+'/'+data[\"YEAR\"].astype(\"str\")+\" \"+data1[\"CRS_DEP_TIME\"].astype(\"str\")"
      ]
    },
    {
      "cell_type": "markdown",
      "id": "37e3baa1",
      "metadata": {
        "id": "37e3baa1"
      },
      "source": [
        "data1.date"
      ]
    },
    {
      "cell_type": "markdown",
      "id": "d9800fda",
      "metadata": {
        "id": "d9800fda"
      },
      "source": [
        "data1[\"date\"]=pd.to_datetime(data1[\"date\"],format=\"%d/%m/%Y %H:%M:%S\",errors='coerce')\n",
        "data1[\"date\"]"
      ]
    },
    {
      "cell_type": "code",
      "execution_count": null,
      "id": "ca420151",
      "metadata": {
        "id": "ca420151",
        "outputId": "731f583d-a9b4-4332-d510-be0f25f65e30",
        "colab": {
          "base_uri": "https://localhost:8080/",
          "height": 174
        }
      },
      "outputs": [
        {
          "output_type": "execute_result",
          "data": {
            "text/plain": [
              "     QUARTER  MONTH  DAY_OF_MONTH  DAY_OF_WEEK UNIQUE_CARRIER TAIL_NUM  \\\n",
              "179        1      1            10            7             DL   N924DN   \n",
              "\n",
              "     FL_NUM ORIGIN DEST  CRS_DEP_TIME  ...  DEP_DEL15  CRS_ARR_TIME  ARR_TIME  \\\n",
              "179      86    MSP  DTW          1348  ...        NaN          1632       NaN   \n",
              "\n",
              "     ARR_DELAY  ARR_DEL15  CANCELLED  DIVERTED  CRS_ELAPSED_TIME  \\\n",
              "179        NaN        NaN          1         0               104   \n",
              "\n",
              "     ACTUAL_ELAPSED_TIME  DISTANCE  \n",
              "179                  NaN       528  \n",
              "\n",
              "[1 rows x 22 columns]"
            ],
            "text/html": [
              "\n",
              "  <div id=\"df-6fdffb13-3542-4210-8ab8-ea57c7f0140d\">\n",
              "    <div class=\"colab-df-container\">\n",
              "      <div>\n",
              "<style scoped>\n",
              "    .dataframe tbody tr th:only-of-type {\n",
              "        vertical-align: middle;\n",
              "    }\n",
              "\n",
              "    .dataframe tbody tr th {\n",
              "        vertical-align: top;\n",
              "    }\n",
              "\n",
              "    .dataframe thead th {\n",
              "        text-align: right;\n",
              "    }\n",
              "</style>\n",
              "<table border=\"1\" class=\"dataframe\">\n",
              "  <thead>\n",
              "    <tr style=\"text-align: right;\">\n",
              "      <th></th>\n",
              "      <th>QUARTER</th>\n",
              "      <th>MONTH</th>\n",
              "      <th>DAY_OF_MONTH</th>\n",
              "      <th>DAY_OF_WEEK</th>\n",
              "      <th>UNIQUE_CARRIER</th>\n",
              "      <th>TAIL_NUM</th>\n",
              "      <th>FL_NUM</th>\n",
              "      <th>ORIGIN</th>\n",
              "      <th>DEST</th>\n",
              "      <th>CRS_DEP_TIME</th>\n",
              "      <th>...</th>\n",
              "      <th>DEP_DEL15</th>\n",
              "      <th>CRS_ARR_TIME</th>\n",
              "      <th>ARR_TIME</th>\n",
              "      <th>ARR_DELAY</th>\n",
              "      <th>ARR_DEL15</th>\n",
              "      <th>CANCELLED</th>\n",
              "      <th>DIVERTED</th>\n",
              "      <th>CRS_ELAPSED_TIME</th>\n",
              "      <th>ACTUAL_ELAPSED_TIME</th>\n",
              "      <th>DISTANCE</th>\n",
              "    </tr>\n",
              "  </thead>\n",
              "  <tbody>\n",
              "    <tr>\n",
              "      <th>179</th>\n",
              "      <td>1</td>\n",
              "      <td>1</td>\n",
              "      <td>10</td>\n",
              "      <td>7</td>\n",
              "      <td>DL</td>\n",
              "      <td>N924DN</td>\n",
              "      <td>86</td>\n",
              "      <td>MSP</td>\n",
              "      <td>DTW</td>\n",
              "      <td>1348</td>\n",
              "      <td>...</td>\n",
              "      <td>NaN</td>\n",
              "      <td>1632</td>\n",
              "      <td>NaN</td>\n",
              "      <td>NaN</td>\n",
              "      <td>NaN</td>\n",
              "      <td>1</td>\n",
              "      <td>0</td>\n",
              "      <td>104</td>\n",
              "      <td>NaN</td>\n",
              "      <td>528</td>\n",
              "    </tr>\n",
              "  </tbody>\n",
              "</table>\n",
              "<p>1 rows × 22 columns</p>\n",
              "</div>\n",
              "      <button class=\"colab-df-convert\" onclick=\"convertToInteractive('df-6fdffb13-3542-4210-8ab8-ea57c7f0140d')\"\n",
              "              title=\"Convert this dataframe to an interactive table.\"\n",
              "              style=\"display:none;\">\n",
              "        \n",
              "  <svg xmlns=\"http://www.w3.org/2000/svg\" height=\"24px\"viewBox=\"0 0 24 24\"\n",
              "       width=\"24px\">\n",
              "    <path d=\"M0 0h24v24H0V0z\" fill=\"none\"/>\n",
              "    <path d=\"M18.56 5.44l.94 2.06.94-2.06 2.06-.94-2.06-.94-.94-2.06-.94 2.06-2.06.94zm-11 1L8.5 8.5l.94-2.06 2.06-.94-2.06-.94L8.5 2.5l-.94 2.06-2.06.94zm10 10l.94 2.06.94-2.06 2.06-.94-2.06-.94-.94-2.06-.94 2.06-2.06.94z\"/><path d=\"M17.41 7.96l-1.37-1.37c-.4-.4-.92-.59-1.43-.59-.52 0-1.04.2-1.43.59L10.3 9.45l-7.72 7.72c-.78.78-.78 2.05 0 2.83L4 21.41c.39.39.9.59 1.41.59.51 0 1.02-.2 1.41-.59l7.78-7.78 2.81-2.81c.8-.78.8-2.07 0-2.86zM5.41 20L4 18.59l7.72-7.72 1.47 1.35L5.41 20z\"/>\n",
              "  </svg>\n",
              "      </button>\n",
              "      \n",
              "  <style>\n",
              "    .colab-df-container {\n",
              "      display:flex;\n",
              "      flex-wrap:wrap;\n",
              "      gap: 12px;\n",
              "    }\n",
              "\n",
              "    .colab-df-convert {\n",
              "      background-color: #E8F0FE;\n",
              "      border: none;\n",
              "      border-radius: 50%;\n",
              "      cursor: pointer;\n",
              "      display: none;\n",
              "      fill: #1967D2;\n",
              "      height: 32px;\n",
              "      padding: 0 0 0 0;\n",
              "      width: 32px;\n",
              "    }\n",
              "\n",
              "    .colab-df-convert:hover {\n",
              "      background-color: #E2EBFA;\n",
              "      box-shadow: 0px 1px 2px rgba(60, 64, 67, 0.3), 0px 1px 3px 1px rgba(60, 64, 67, 0.15);\n",
              "      fill: #174EA6;\n",
              "    }\n",
              "\n",
              "    [theme=dark] .colab-df-convert {\n",
              "      background-color: #3B4455;\n",
              "      fill: #D2E3FC;\n",
              "    }\n",
              "\n",
              "    [theme=dark] .colab-df-convert:hover {\n",
              "      background-color: #434B5C;\n",
              "      box-shadow: 0px 1px 3px 1px rgba(0, 0, 0, 0.15);\n",
              "      filter: drop-shadow(0px 1px 2px rgba(0, 0, 0, 0.3));\n",
              "      fill: #FFFFFF;\n",
              "    }\n",
              "  </style>\n",
              "\n",
              "      <script>\n",
              "        const buttonEl =\n",
              "          document.querySelector('#df-6fdffb13-3542-4210-8ab8-ea57c7f0140d button.colab-df-convert');\n",
              "        buttonEl.style.display =\n",
              "          google.colab.kernel.accessAllowed ? 'block' : 'none';\n",
              "\n",
              "        async function convertToInteractive(key) {\n",
              "          const element = document.querySelector('#df-6fdffb13-3542-4210-8ab8-ea57c7f0140d');\n",
              "          const dataTable =\n",
              "            await google.colab.kernel.invokeFunction('convertToInteractive',\n",
              "                                                     [key], {});\n",
              "          if (!dataTable) return;\n",
              "\n",
              "          const docLinkHtml = 'Like what you see? Visit the ' +\n",
              "            '<a target=\"_blank\" href=https://colab.research.google.com/notebooks/data_table.ipynb>data table notebook</a>'\n",
              "            + ' to learn more about interactive tables.';\n",
              "          element.innerHTML = '';\n",
              "          dataTable['output_type'] = 'display_data';\n",
              "          await google.colab.output.renderOutput(dataTable, element);\n",
              "          const docLink = document.createElement('div');\n",
              "          docLink.innerHTML = docLinkHtml;\n",
              "          element.appendChild(docLink);\n",
              "        }\n",
              "      </script>\n",
              "    </div>\n",
              "  </div>\n",
              "  "
            ]
          },
          "metadata": {},
          "execution_count": 27
        }
      ],
      "source": [
        "data1[(data1[\"TAIL_NUM\"]==\"N924DN\")&(data1[\"FL_NUM\"]==86)]"
      ]
    },
    {
      "cell_type": "code",
      "execution_count": null,
      "id": "16197c21",
      "metadata": {
        "id": "16197c21",
        "outputId": "935b0e30-a6f7-4bf4-c97d-0bad163874e8",
        "colab": {
          "base_uri": "https://localhost:8080/",
          "height": 488
        }
      },
      "outputs": [
        {
          "output_type": "execute_result",
          "data": {
            "text/plain": [
              "       QUARTER  MONTH  DAY_OF_MONTH  DAY_OF_WEEK UNIQUE_CARRIER TAIL_NUM  \\\n",
              "34           1      1             4            1             DL   N827DN   \n",
              "128          1      1             7            4             DL   N931DN   \n",
              "146          1      1             8            5             DL   N678DL   \n",
              "166          1      1             8            5             DL   N711ZX   \n",
              "167          1      1             8            5             DL   N824DN   \n",
              "...        ...    ...           ...          ...            ...      ...   \n",
              "11120        4     12            29            4             DL   N301DN   \n",
              "11168        4     12            30            5             DL   N947DL   \n",
              "11173        4     12            31            6             DL   N659DL   \n",
              "11187        4     12             3            6             DL   N627DL   \n",
              "11203        4     12             9            5             DL   N837DN   \n",
              "\n",
              "       FL_NUM ORIGIN DEST  CRS_DEP_TIME  ...  DEP_DEL15  CRS_ARR_TIME  \\\n",
              "34       1770    SEA  MSP          1520  ...        0.0          2032   \n",
              "128       744    MSP  ATL          1005  ...        0.0          1334   \n",
              "146         8    MSP  ATL          1732  ...        0.0          2105   \n",
              "166      1473    SEA  JFK          1110  ...        0.0          1930   \n",
              "167      1598    SEA  ATL           620  ...        0.0          1401   \n",
              "...       ...    ...  ...           ...  ...        ...           ...   \n",
              "11120     811    ATL  MSP          1350  ...        0.0          1532   \n",
              "11168     984    ATL  JFK          2055  ...        0.0          2315   \n",
              "11173    2610    ATL  MSP           725  ...        0.0           900   \n",
              "11187      95    ATL  DTW          1235  ...        0.0          1436   \n",
              "11203    2221    MSP  SEA          1120  ...        0.0          1311   \n",
              "\n",
              "       ARR_TIME  ARR_DELAY  ARR_DEL15  CANCELLED  DIVERTED  CRS_ELAPSED_TIME  \\\n",
              "34       2048.0       16.0        1.0          0         0               192   \n",
              "128      1349.0       15.0        1.0          0         0               149   \n",
              "146      2133.0       28.0        1.0          0         0               153   \n",
              "166      1950.0       20.0        1.0          0         0               320   \n",
              "167      1416.0       15.0        1.0          0         0               281   \n",
              "...         ...        ...        ...        ...       ...               ...   \n",
              "11120    1552.0       20.0        1.0          0         0               162   \n",
              "11168    2330.0       15.0        1.0          0         0               140   \n",
              "11173     921.0       21.0        1.0          0         0               155   \n",
              "11187    1500.0       24.0        1.0          0         0               121   \n",
              "11203    1345.0       34.0        1.0          0         0               231   \n",
              "\n",
              "       ACTUAL_ELAPSED_TIME  DISTANCE  \n",
              "34                   207.0      1399  \n",
              "128                  159.0       907  \n",
              "146                  178.0       907  \n",
              "166                  340.0      2422  \n",
              "167                  296.0      2182  \n",
              "...                    ...       ...  \n",
              "11120                185.0       907  \n",
              "11168                157.0       760  \n",
              "11173                168.0       907  \n",
              "11187                131.0       594  \n",
              "11203                267.0      1399  \n",
              "\n",
              "[340 rows x 22 columns]"
            ],
            "text/html": [
              "\n",
              "  <div id=\"df-ab3aec49-4fca-4b18-8918-4c877f0b8f70\">\n",
              "    <div class=\"colab-df-container\">\n",
              "      <div>\n",
              "<style scoped>\n",
              "    .dataframe tbody tr th:only-of-type {\n",
              "        vertical-align: middle;\n",
              "    }\n",
              "\n",
              "    .dataframe tbody tr th {\n",
              "        vertical-align: top;\n",
              "    }\n",
              "\n",
              "    .dataframe thead th {\n",
              "        text-align: right;\n",
              "    }\n",
              "</style>\n",
              "<table border=\"1\" class=\"dataframe\">\n",
              "  <thead>\n",
              "    <tr style=\"text-align: right;\">\n",
              "      <th></th>\n",
              "      <th>QUARTER</th>\n",
              "      <th>MONTH</th>\n",
              "      <th>DAY_OF_MONTH</th>\n",
              "      <th>DAY_OF_WEEK</th>\n",
              "      <th>UNIQUE_CARRIER</th>\n",
              "      <th>TAIL_NUM</th>\n",
              "      <th>FL_NUM</th>\n",
              "      <th>ORIGIN</th>\n",
              "      <th>DEST</th>\n",
              "      <th>CRS_DEP_TIME</th>\n",
              "      <th>...</th>\n",
              "      <th>DEP_DEL15</th>\n",
              "      <th>CRS_ARR_TIME</th>\n",
              "      <th>ARR_TIME</th>\n",
              "      <th>ARR_DELAY</th>\n",
              "      <th>ARR_DEL15</th>\n",
              "      <th>CANCELLED</th>\n",
              "      <th>DIVERTED</th>\n",
              "      <th>CRS_ELAPSED_TIME</th>\n",
              "      <th>ACTUAL_ELAPSED_TIME</th>\n",
              "      <th>DISTANCE</th>\n",
              "    </tr>\n",
              "  </thead>\n",
              "  <tbody>\n",
              "    <tr>\n",
              "      <th>34</th>\n",
              "      <td>1</td>\n",
              "      <td>1</td>\n",
              "      <td>4</td>\n",
              "      <td>1</td>\n",
              "      <td>DL</td>\n",
              "      <td>N827DN</td>\n",
              "      <td>1770</td>\n",
              "      <td>SEA</td>\n",
              "      <td>MSP</td>\n",
              "      <td>1520</td>\n",
              "      <td>...</td>\n",
              "      <td>0.0</td>\n",
              "      <td>2032</td>\n",
              "      <td>2048.0</td>\n",
              "      <td>16.0</td>\n",
              "      <td>1.0</td>\n",
              "      <td>0</td>\n",
              "      <td>0</td>\n",
              "      <td>192</td>\n",
              "      <td>207.0</td>\n",
              "      <td>1399</td>\n",
              "    </tr>\n",
              "    <tr>\n",
              "      <th>128</th>\n",
              "      <td>1</td>\n",
              "      <td>1</td>\n",
              "      <td>7</td>\n",
              "      <td>4</td>\n",
              "      <td>DL</td>\n",
              "      <td>N931DN</td>\n",
              "      <td>744</td>\n",
              "      <td>MSP</td>\n",
              "      <td>ATL</td>\n",
              "      <td>1005</td>\n",
              "      <td>...</td>\n",
              "      <td>0.0</td>\n",
              "      <td>1334</td>\n",
              "      <td>1349.0</td>\n",
              "      <td>15.0</td>\n",
              "      <td>1.0</td>\n",
              "      <td>0</td>\n",
              "      <td>0</td>\n",
              "      <td>149</td>\n",
              "      <td>159.0</td>\n",
              "      <td>907</td>\n",
              "    </tr>\n",
              "    <tr>\n",
              "      <th>146</th>\n",
              "      <td>1</td>\n",
              "      <td>1</td>\n",
              "      <td>8</td>\n",
              "      <td>5</td>\n",
              "      <td>DL</td>\n",
              "      <td>N678DL</td>\n",
              "      <td>8</td>\n",
              "      <td>MSP</td>\n",
              "      <td>ATL</td>\n",
              "      <td>1732</td>\n",
              "      <td>...</td>\n",
              "      <td>0.0</td>\n",
              "      <td>2105</td>\n",
              "      <td>2133.0</td>\n",
              "      <td>28.0</td>\n",
              "      <td>1.0</td>\n",
              "      <td>0</td>\n",
              "      <td>0</td>\n",
              "      <td>153</td>\n",
              "      <td>178.0</td>\n",
              "      <td>907</td>\n",
              "    </tr>\n",
              "    <tr>\n",
              "      <th>166</th>\n",
              "      <td>1</td>\n",
              "      <td>1</td>\n",
              "      <td>8</td>\n",
              "      <td>5</td>\n",
              "      <td>DL</td>\n",
              "      <td>N711ZX</td>\n",
              "      <td>1473</td>\n",
              "      <td>SEA</td>\n",
              "      <td>JFK</td>\n",
              "      <td>1110</td>\n",
              "      <td>...</td>\n",
              "      <td>0.0</td>\n",
              "      <td>1930</td>\n",
              "      <td>1950.0</td>\n",
              "      <td>20.0</td>\n",
              "      <td>1.0</td>\n",
              "      <td>0</td>\n",
              "      <td>0</td>\n",
              "      <td>320</td>\n",
              "      <td>340.0</td>\n",
              "      <td>2422</td>\n",
              "    </tr>\n",
              "    <tr>\n",
              "      <th>167</th>\n",
              "      <td>1</td>\n",
              "      <td>1</td>\n",
              "      <td>8</td>\n",
              "      <td>5</td>\n",
              "      <td>DL</td>\n",
              "      <td>N824DN</td>\n",
              "      <td>1598</td>\n",
              "      <td>SEA</td>\n",
              "      <td>ATL</td>\n",
              "      <td>620</td>\n",
              "      <td>...</td>\n",
              "      <td>0.0</td>\n",
              "      <td>1401</td>\n",
              "      <td>1416.0</td>\n",
              "      <td>15.0</td>\n",
              "      <td>1.0</td>\n",
              "      <td>0</td>\n",
              "      <td>0</td>\n",
              "      <td>281</td>\n",
              "      <td>296.0</td>\n",
              "      <td>2182</td>\n",
              "    </tr>\n",
              "    <tr>\n",
              "      <th>...</th>\n",
              "      <td>...</td>\n",
              "      <td>...</td>\n",
              "      <td>...</td>\n",
              "      <td>...</td>\n",
              "      <td>...</td>\n",
              "      <td>...</td>\n",
              "      <td>...</td>\n",
              "      <td>...</td>\n",
              "      <td>...</td>\n",
              "      <td>...</td>\n",
              "      <td>...</td>\n",
              "      <td>...</td>\n",
              "      <td>...</td>\n",
              "      <td>...</td>\n",
              "      <td>...</td>\n",
              "      <td>...</td>\n",
              "      <td>...</td>\n",
              "      <td>...</td>\n",
              "      <td>...</td>\n",
              "      <td>...</td>\n",
              "      <td>...</td>\n",
              "    </tr>\n",
              "    <tr>\n",
              "      <th>11120</th>\n",
              "      <td>4</td>\n",
              "      <td>12</td>\n",
              "      <td>29</td>\n",
              "      <td>4</td>\n",
              "      <td>DL</td>\n",
              "      <td>N301DN</td>\n",
              "      <td>811</td>\n",
              "      <td>ATL</td>\n",
              "      <td>MSP</td>\n",
              "      <td>1350</td>\n",
              "      <td>...</td>\n",
              "      <td>0.0</td>\n",
              "      <td>1532</td>\n",
              "      <td>1552.0</td>\n",
              "      <td>20.0</td>\n",
              "      <td>1.0</td>\n",
              "      <td>0</td>\n",
              "      <td>0</td>\n",
              "      <td>162</td>\n",
              "      <td>185.0</td>\n",
              "      <td>907</td>\n",
              "    </tr>\n",
              "    <tr>\n",
              "      <th>11168</th>\n",
              "      <td>4</td>\n",
              "      <td>12</td>\n",
              "      <td>30</td>\n",
              "      <td>5</td>\n",
              "      <td>DL</td>\n",
              "      <td>N947DL</td>\n",
              "      <td>984</td>\n",
              "      <td>ATL</td>\n",
              "      <td>JFK</td>\n",
              "      <td>2055</td>\n",
              "      <td>...</td>\n",
              "      <td>0.0</td>\n",
              "      <td>2315</td>\n",
              "      <td>2330.0</td>\n",
              "      <td>15.0</td>\n",
              "      <td>1.0</td>\n",
              "      <td>0</td>\n",
              "      <td>0</td>\n",
              "      <td>140</td>\n",
              "      <td>157.0</td>\n",
              "      <td>760</td>\n",
              "    </tr>\n",
              "    <tr>\n",
              "      <th>11173</th>\n",
              "      <td>4</td>\n",
              "      <td>12</td>\n",
              "      <td>31</td>\n",
              "      <td>6</td>\n",
              "      <td>DL</td>\n",
              "      <td>N659DL</td>\n",
              "      <td>2610</td>\n",
              "      <td>ATL</td>\n",
              "      <td>MSP</td>\n",
              "      <td>725</td>\n",
              "      <td>...</td>\n",
              "      <td>0.0</td>\n",
              "      <td>900</td>\n",
              "      <td>921.0</td>\n",
              "      <td>21.0</td>\n",
              "      <td>1.0</td>\n",
              "      <td>0</td>\n",
              "      <td>0</td>\n",
              "      <td>155</td>\n",
              "      <td>168.0</td>\n",
              "      <td>907</td>\n",
              "    </tr>\n",
              "    <tr>\n",
              "      <th>11187</th>\n",
              "      <td>4</td>\n",
              "      <td>12</td>\n",
              "      <td>3</td>\n",
              "      <td>6</td>\n",
              "      <td>DL</td>\n",
              "      <td>N627DL</td>\n",
              "      <td>95</td>\n",
              "      <td>ATL</td>\n",
              "      <td>DTW</td>\n",
              "      <td>1235</td>\n",
              "      <td>...</td>\n",
              "      <td>0.0</td>\n",
              "      <td>1436</td>\n",
              "      <td>1500.0</td>\n",
              "      <td>24.0</td>\n",
              "      <td>1.0</td>\n",
              "      <td>0</td>\n",
              "      <td>0</td>\n",
              "      <td>121</td>\n",
              "      <td>131.0</td>\n",
              "      <td>594</td>\n",
              "    </tr>\n",
              "    <tr>\n",
              "      <th>11203</th>\n",
              "      <td>4</td>\n",
              "      <td>12</td>\n",
              "      <td>9</td>\n",
              "      <td>5</td>\n",
              "      <td>DL</td>\n",
              "      <td>N837DN</td>\n",
              "      <td>2221</td>\n",
              "      <td>MSP</td>\n",
              "      <td>SEA</td>\n",
              "      <td>1120</td>\n",
              "      <td>...</td>\n",
              "      <td>0.0</td>\n",
              "      <td>1311</td>\n",
              "      <td>1345.0</td>\n",
              "      <td>34.0</td>\n",
              "      <td>1.0</td>\n",
              "      <td>0</td>\n",
              "      <td>0</td>\n",
              "      <td>231</td>\n",
              "      <td>267.0</td>\n",
              "      <td>1399</td>\n",
              "    </tr>\n",
              "  </tbody>\n",
              "</table>\n",
              "<p>340 rows × 22 columns</p>\n",
              "</div>\n",
              "      <button class=\"colab-df-convert\" onclick=\"convertToInteractive('df-ab3aec49-4fca-4b18-8918-4c877f0b8f70')\"\n",
              "              title=\"Convert this dataframe to an interactive table.\"\n",
              "              style=\"display:none;\">\n",
              "        \n",
              "  <svg xmlns=\"http://www.w3.org/2000/svg\" height=\"24px\"viewBox=\"0 0 24 24\"\n",
              "       width=\"24px\">\n",
              "    <path d=\"M0 0h24v24H0V0z\" fill=\"none\"/>\n",
              "    <path d=\"M18.56 5.44l.94 2.06.94-2.06 2.06-.94-2.06-.94-.94-2.06-.94 2.06-2.06.94zm-11 1L8.5 8.5l.94-2.06 2.06-.94-2.06-.94L8.5 2.5l-.94 2.06-2.06.94zm10 10l.94 2.06.94-2.06 2.06-.94-2.06-.94-.94-2.06-.94 2.06-2.06.94z\"/><path d=\"M17.41 7.96l-1.37-1.37c-.4-.4-.92-.59-1.43-.59-.52 0-1.04.2-1.43.59L10.3 9.45l-7.72 7.72c-.78.78-.78 2.05 0 2.83L4 21.41c.39.39.9.59 1.41.59.51 0 1.02-.2 1.41-.59l7.78-7.78 2.81-2.81c.8-.78.8-2.07 0-2.86zM5.41 20L4 18.59l7.72-7.72 1.47 1.35L5.41 20z\"/>\n",
              "  </svg>\n",
              "      </button>\n",
              "      \n",
              "  <style>\n",
              "    .colab-df-container {\n",
              "      display:flex;\n",
              "      flex-wrap:wrap;\n",
              "      gap: 12px;\n",
              "    }\n",
              "\n",
              "    .colab-df-convert {\n",
              "      background-color: #E8F0FE;\n",
              "      border: none;\n",
              "      border-radius: 50%;\n",
              "      cursor: pointer;\n",
              "      display: none;\n",
              "      fill: #1967D2;\n",
              "      height: 32px;\n",
              "      padding: 0 0 0 0;\n",
              "      width: 32px;\n",
              "    }\n",
              "\n",
              "    .colab-df-convert:hover {\n",
              "      background-color: #E2EBFA;\n",
              "      box-shadow: 0px 1px 2px rgba(60, 64, 67, 0.3), 0px 1px 3px 1px rgba(60, 64, 67, 0.15);\n",
              "      fill: #174EA6;\n",
              "    }\n",
              "\n",
              "    [theme=dark] .colab-df-convert {\n",
              "      background-color: #3B4455;\n",
              "      fill: #D2E3FC;\n",
              "    }\n",
              "\n",
              "    [theme=dark] .colab-df-convert:hover {\n",
              "      background-color: #434B5C;\n",
              "      box-shadow: 0px 1px 3px 1px rgba(0, 0, 0, 0.15);\n",
              "      filter: drop-shadow(0px 1px 2px rgba(0, 0, 0, 0.3));\n",
              "      fill: #FFFFFF;\n",
              "    }\n",
              "  </style>\n",
              "\n",
              "      <script>\n",
              "        const buttonEl =\n",
              "          document.querySelector('#df-ab3aec49-4fca-4b18-8918-4c877f0b8f70 button.colab-df-convert');\n",
              "        buttonEl.style.display =\n",
              "          google.colab.kernel.accessAllowed ? 'block' : 'none';\n",
              "\n",
              "        async function convertToInteractive(key) {\n",
              "          const element = document.querySelector('#df-ab3aec49-4fca-4b18-8918-4c877f0b8f70');\n",
              "          const dataTable =\n",
              "            await google.colab.kernel.invokeFunction('convertToInteractive',\n",
              "                                                     [key], {});\n",
              "          if (!dataTable) return;\n",
              "\n",
              "          const docLinkHtml = 'Like what you see? Visit the ' +\n",
              "            '<a target=\"_blank\" href=https://colab.research.google.com/notebooks/data_table.ipynb>data table notebook</a>'\n",
              "            + ' to learn more about interactive tables.';\n",
              "          element.innerHTML = '';\n",
              "          dataTable['output_type'] = 'display_data';\n",
              "          await google.colab.output.renderOutput(dataTable, element);\n",
              "          const docLink = document.createElement('div');\n",
              "          docLink.innerHTML = docLinkHtml;\n",
              "          element.appendChild(docLink);\n",
              "        }\n",
              "      </script>\n",
              "    </div>\n",
              "  </div>\n",
              "  "
            ]
          },
          "metadata": {},
          "execution_count": 28
        }
      ],
      "source": [
        "data1[(data1[\"DEP_DEL15\"]==0)&(data1[\"ARR_DEL15\"]==1)]"
      ]
    },
    {
      "cell_type": "code",
      "execution_count": null,
      "id": "534783ae",
      "metadata": {
        "id": "534783ae",
        "outputId": "f54be018-0839-4d0a-a1f2-c4ee46f4967a",
        "colab": {
          "base_uri": "https://localhost:8080/",
          "height": 364
        }
      },
      "outputs": [
        {
          "output_type": "execute_result",
          "data": {
            "text/plain": [
              "            QUARTER         MONTH  DAY_OF_MONTH   DAY_OF_WEEK        FL_NUM  \\\n",
              "count  11231.000000  11231.000000  11231.000000  11231.000000  11231.000000   \n",
              "mean       2.544475      6.628973     15.790758      3.960199   1334.325617   \n",
              "std        1.090701      3.354678      8.782056      1.995257    811.875227   \n",
              "min        1.000000      1.000000      1.000000      1.000000      7.000000   \n",
              "25%        2.000000      4.000000      8.000000      2.000000    624.000000   \n",
              "50%        3.000000      7.000000     16.000000      4.000000   1267.000000   \n",
              "75%        3.000000      9.000000     23.000000      6.000000   2032.000000   \n",
              "max        4.000000     12.000000     31.000000      7.000000   2853.000000   \n",
              "\n",
              "       CRS_DEP_TIME      DEP_TIME     DEP_DELAY     DEP_DEL15  CRS_ARR_TIME  \\\n",
              "count  11231.000000  11124.000000  11124.000000  11124.000000  11231.000000   \n",
              "mean    1320.798326   1327.189410      8.460266      0.142844   1537.312795   \n",
              "std      490.737845    500.306462     36.762969      0.349930    502.512494   \n",
              "min       10.000000      1.000000    -16.000000      0.000000      2.000000   \n",
              "25%      905.000000    905.000000     -3.000000      0.000000   1130.000000   \n",
              "50%     1320.000000   1324.000000     -1.000000      0.000000   1559.000000   \n",
              "75%     1735.000000   1739.000000      4.000000      0.000000   1952.000000   \n",
              "max     2359.000000   2400.000000    645.000000      1.000000   2359.000000   \n",
              "\n",
              "           ARR_TIME     ARR_DELAY     ARR_DEL15     CANCELLED      DIVERTED  \\\n",
              "count  11116.000000  11043.000000  11043.000000  11231.000000  11231.000000   \n",
              "mean    1523.978499     -2.573123      0.124513      0.010150      0.006589   \n",
              "std      512.536041     39.232521      0.330181      0.100241      0.080908   \n",
              "min        1.000000    -67.000000      0.000000      0.000000      0.000000   \n",
              "25%     1135.000000    -19.000000      0.000000      0.000000      0.000000   \n",
              "50%     1547.000000    -10.000000      0.000000      0.000000      0.000000   \n",
              "75%     1945.000000      1.000000      0.000000      0.000000      0.000000   \n",
              "max     2400.000000    615.000000      1.000000      1.000000      1.000000   \n",
              "\n",
              "       CRS_ELAPSED_TIME  ACTUAL_ELAPSED_TIME      DISTANCE  \n",
              "count      11231.000000         11043.000000  11231.000000  \n",
              "mean         190.652124           179.661233   1161.031965  \n",
              "std           78.386317            77.940399    643.683379  \n",
              "min           93.000000            75.000000    509.000000  \n",
              "25%          127.000000           117.000000    594.000000  \n",
              "50%          159.000000           149.000000    907.000000  \n",
              "75%          255.000000           236.000000   1927.000000  \n",
              "max          397.000000           428.000000   2422.000000  "
            ],
            "text/html": [
              "\n",
              "  <div id=\"df-491811b3-d5a2-473a-88ea-53f439b12829\">\n",
              "    <div class=\"colab-df-container\">\n",
              "      <div>\n",
              "<style scoped>\n",
              "    .dataframe tbody tr th:only-of-type {\n",
              "        vertical-align: middle;\n",
              "    }\n",
              "\n",
              "    .dataframe tbody tr th {\n",
              "        vertical-align: top;\n",
              "    }\n",
              "\n",
              "    .dataframe thead th {\n",
              "        text-align: right;\n",
              "    }\n",
              "</style>\n",
              "<table border=\"1\" class=\"dataframe\">\n",
              "  <thead>\n",
              "    <tr style=\"text-align: right;\">\n",
              "      <th></th>\n",
              "      <th>QUARTER</th>\n",
              "      <th>MONTH</th>\n",
              "      <th>DAY_OF_MONTH</th>\n",
              "      <th>DAY_OF_WEEK</th>\n",
              "      <th>FL_NUM</th>\n",
              "      <th>CRS_DEP_TIME</th>\n",
              "      <th>DEP_TIME</th>\n",
              "      <th>DEP_DELAY</th>\n",
              "      <th>DEP_DEL15</th>\n",
              "      <th>CRS_ARR_TIME</th>\n",
              "      <th>ARR_TIME</th>\n",
              "      <th>ARR_DELAY</th>\n",
              "      <th>ARR_DEL15</th>\n",
              "      <th>CANCELLED</th>\n",
              "      <th>DIVERTED</th>\n",
              "      <th>CRS_ELAPSED_TIME</th>\n",
              "      <th>ACTUAL_ELAPSED_TIME</th>\n",
              "      <th>DISTANCE</th>\n",
              "    </tr>\n",
              "  </thead>\n",
              "  <tbody>\n",
              "    <tr>\n",
              "      <th>count</th>\n",
              "      <td>11231.000000</td>\n",
              "      <td>11231.000000</td>\n",
              "      <td>11231.000000</td>\n",
              "      <td>11231.000000</td>\n",
              "      <td>11231.000000</td>\n",
              "      <td>11231.000000</td>\n",
              "      <td>11124.000000</td>\n",
              "      <td>11124.000000</td>\n",
              "      <td>11124.000000</td>\n",
              "      <td>11231.000000</td>\n",
              "      <td>11116.000000</td>\n",
              "      <td>11043.000000</td>\n",
              "      <td>11043.000000</td>\n",
              "      <td>11231.000000</td>\n",
              "      <td>11231.000000</td>\n",
              "      <td>11231.000000</td>\n",
              "      <td>11043.000000</td>\n",
              "      <td>11231.000000</td>\n",
              "    </tr>\n",
              "    <tr>\n",
              "      <th>mean</th>\n",
              "      <td>2.544475</td>\n",
              "      <td>6.628973</td>\n",
              "      <td>15.790758</td>\n",
              "      <td>3.960199</td>\n",
              "      <td>1334.325617</td>\n",
              "      <td>1320.798326</td>\n",
              "      <td>1327.189410</td>\n",
              "      <td>8.460266</td>\n",
              "      <td>0.142844</td>\n",
              "      <td>1537.312795</td>\n",
              "      <td>1523.978499</td>\n",
              "      <td>-2.573123</td>\n",
              "      <td>0.124513</td>\n",
              "      <td>0.010150</td>\n",
              "      <td>0.006589</td>\n",
              "      <td>190.652124</td>\n",
              "      <td>179.661233</td>\n",
              "      <td>1161.031965</td>\n",
              "    </tr>\n",
              "    <tr>\n",
              "      <th>std</th>\n",
              "      <td>1.090701</td>\n",
              "      <td>3.354678</td>\n",
              "      <td>8.782056</td>\n",
              "      <td>1.995257</td>\n",
              "      <td>811.875227</td>\n",
              "      <td>490.737845</td>\n",
              "      <td>500.306462</td>\n",
              "      <td>36.762969</td>\n",
              "      <td>0.349930</td>\n",
              "      <td>502.512494</td>\n",
              "      <td>512.536041</td>\n",
              "      <td>39.232521</td>\n",
              "      <td>0.330181</td>\n",
              "      <td>0.100241</td>\n",
              "      <td>0.080908</td>\n",
              "      <td>78.386317</td>\n",
              "      <td>77.940399</td>\n",
              "      <td>643.683379</td>\n",
              "    </tr>\n",
              "    <tr>\n",
              "      <th>min</th>\n",
              "      <td>1.000000</td>\n",
              "      <td>1.000000</td>\n",
              "      <td>1.000000</td>\n",
              "      <td>1.000000</td>\n",
              "      <td>7.000000</td>\n",
              "      <td>10.000000</td>\n",
              "      <td>1.000000</td>\n",
              "      <td>-16.000000</td>\n",
              "      <td>0.000000</td>\n",
              "      <td>2.000000</td>\n",
              "      <td>1.000000</td>\n",
              "      <td>-67.000000</td>\n",
              "      <td>0.000000</td>\n",
              "      <td>0.000000</td>\n",
              "      <td>0.000000</td>\n",
              "      <td>93.000000</td>\n",
              "      <td>75.000000</td>\n",
              "      <td>509.000000</td>\n",
              "    </tr>\n",
              "    <tr>\n",
              "      <th>25%</th>\n",
              "      <td>2.000000</td>\n",
              "      <td>4.000000</td>\n",
              "      <td>8.000000</td>\n",
              "      <td>2.000000</td>\n",
              "      <td>624.000000</td>\n",
              "      <td>905.000000</td>\n",
              "      <td>905.000000</td>\n",
              "      <td>-3.000000</td>\n",
              "      <td>0.000000</td>\n",
              "      <td>1130.000000</td>\n",
              "      <td>1135.000000</td>\n",
              "      <td>-19.000000</td>\n",
              "      <td>0.000000</td>\n",
              "      <td>0.000000</td>\n",
              "      <td>0.000000</td>\n",
              "      <td>127.000000</td>\n",
              "      <td>117.000000</td>\n",
              "      <td>594.000000</td>\n",
              "    </tr>\n",
              "    <tr>\n",
              "      <th>50%</th>\n",
              "      <td>3.000000</td>\n",
              "      <td>7.000000</td>\n",
              "      <td>16.000000</td>\n",
              "      <td>4.000000</td>\n",
              "      <td>1267.000000</td>\n",
              "      <td>1320.000000</td>\n",
              "      <td>1324.000000</td>\n",
              "      <td>-1.000000</td>\n",
              "      <td>0.000000</td>\n",
              "      <td>1559.000000</td>\n",
              "      <td>1547.000000</td>\n",
              "      <td>-10.000000</td>\n",
              "      <td>0.000000</td>\n",
              "      <td>0.000000</td>\n",
              "      <td>0.000000</td>\n",
              "      <td>159.000000</td>\n",
              "      <td>149.000000</td>\n",
              "      <td>907.000000</td>\n",
              "    </tr>\n",
              "    <tr>\n",
              "      <th>75%</th>\n",
              "      <td>3.000000</td>\n",
              "      <td>9.000000</td>\n",
              "      <td>23.000000</td>\n",
              "      <td>6.000000</td>\n",
              "      <td>2032.000000</td>\n",
              "      <td>1735.000000</td>\n",
              "      <td>1739.000000</td>\n",
              "      <td>4.000000</td>\n",
              "      <td>0.000000</td>\n",
              "      <td>1952.000000</td>\n",
              "      <td>1945.000000</td>\n",
              "      <td>1.000000</td>\n",
              "      <td>0.000000</td>\n",
              "      <td>0.000000</td>\n",
              "      <td>0.000000</td>\n",
              "      <td>255.000000</td>\n",
              "      <td>236.000000</td>\n",
              "      <td>1927.000000</td>\n",
              "    </tr>\n",
              "    <tr>\n",
              "      <th>max</th>\n",
              "      <td>4.000000</td>\n",
              "      <td>12.000000</td>\n",
              "      <td>31.000000</td>\n",
              "      <td>7.000000</td>\n",
              "      <td>2853.000000</td>\n",
              "      <td>2359.000000</td>\n",
              "      <td>2400.000000</td>\n",
              "      <td>645.000000</td>\n",
              "      <td>1.000000</td>\n",
              "      <td>2359.000000</td>\n",
              "      <td>2400.000000</td>\n",
              "      <td>615.000000</td>\n",
              "      <td>1.000000</td>\n",
              "      <td>1.000000</td>\n",
              "      <td>1.000000</td>\n",
              "      <td>397.000000</td>\n",
              "      <td>428.000000</td>\n",
              "      <td>2422.000000</td>\n",
              "    </tr>\n",
              "  </tbody>\n",
              "</table>\n",
              "</div>\n",
              "      <button class=\"colab-df-convert\" onclick=\"convertToInteractive('df-491811b3-d5a2-473a-88ea-53f439b12829')\"\n",
              "              title=\"Convert this dataframe to an interactive table.\"\n",
              "              style=\"display:none;\">\n",
              "        \n",
              "  <svg xmlns=\"http://www.w3.org/2000/svg\" height=\"24px\"viewBox=\"0 0 24 24\"\n",
              "       width=\"24px\">\n",
              "    <path d=\"M0 0h24v24H0V0z\" fill=\"none\"/>\n",
              "    <path d=\"M18.56 5.44l.94 2.06.94-2.06 2.06-.94-2.06-.94-.94-2.06-.94 2.06-2.06.94zm-11 1L8.5 8.5l.94-2.06 2.06-.94-2.06-.94L8.5 2.5l-.94 2.06-2.06.94zm10 10l.94 2.06.94-2.06 2.06-.94-2.06-.94-.94-2.06-.94 2.06-2.06.94z\"/><path d=\"M17.41 7.96l-1.37-1.37c-.4-.4-.92-.59-1.43-.59-.52 0-1.04.2-1.43.59L10.3 9.45l-7.72 7.72c-.78.78-.78 2.05 0 2.83L4 21.41c.39.39.9.59 1.41.59.51 0 1.02-.2 1.41-.59l7.78-7.78 2.81-2.81c.8-.78.8-2.07 0-2.86zM5.41 20L4 18.59l7.72-7.72 1.47 1.35L5.41 20z\"/>\n",
              "  </svg>\n",
              "      </button>\n",
              "      \n",
              "  <style>\n",
              "    .colab-df-container {\n",
              "      display:flex;\n",
              "      flex-wrap:wrap;\n",
              "      gap: 12px;\n",
              "    }\n",
              "\n",
              "    .colab-df-convert {\n",
              "      background-color: #E8F0FE;\n",
              "      border: none;\n",
              "      border-radius: 50%;\n",
              "      cursor: pointer;\n",
              "      display: none;\n",
              "      fill: #1967D2;\n",
              "      height: 32px;\n",
              "      padding: 0 0 0 0;\n",
              "      width: 32px;\n",
              "    }\n",
              "\n",
              "    .colab-df-convert:hover {\n",
              "      background-color: #E2EBFA;\n",
              "      box-shadow: 0px 1px 2px rgba(60, 64, 67, 0.3), 0px 1px 3px 1px rgba(60, 64, 67, 0.15);\n",
              "      fill: #174EA6;\n",
              "    }\n",
              "\n",
              "    [theme=dark] .colab-df-convert {\n",
              "      background-color: #3B4455;\n",
              "      fill: #D2E3FC;\n",
              "    }\n",
              "\n",
              "    [theme=dark] .colab-df-convert:hover {\n",
              "      background-color: #434B5C;\n",
              "      box-shadow: 0px 1px 3px 1px rgba(0, 0, 0, 0.15);\n",
              "      filter: drop-shadow(0px 1px 2px rgba(0, 0, 0, 0.3));\n",
              "      fill: #FFFFFF;\n",
              "    }\n",
              "  </style>\n",
              "\n",
              "      <script>\n",
              "        const buttonEl =\n",
              "          document.querySelector('#df-491811b3-d5a2-473a-88ea-53f439b12829 button.colab-df-convert');\n",
              "        buttonEl.style.display =\n",
              "          google.colab.kernel.accessAllowed ? 'block' : 'none';\n",
              "\n",
              "        async function convertToInteractive(key) {\n",
              "          const element = document.querySelector('#df-491811b3-d5a2-473a-88ea-53f439b12829');\n",
              "          const dataTable =\n",
              "            await google.colab.kernel.invokeFunction('convertToInteractive',\n",
              "                                                     [key], {});\n",
              "          if (!dataTable) return;\n",
              "\n",
              "          const docLinkHtml = 'Like what you see? Visit the ' +\n",
              "            '<a target=\"_blank\" href=https://colab.research.google.com/notebooks/data_table.ipynb>data table notebook</a>'\n",
              "            + ' to learn more about interactive tables.';\n",
              "          element.innerHTML = '';\n",
              "          dataTable['output_type'] = 'display_data';\n",
              "          await google.colab.output.renderOutput(dataTable, element);\n",
              "          const docLink = document.createElement('div');\n",
              "          docLink.innerHTML = docLinkHtml;\n",
              "          element.appendChild(docLink);\n",
              "        }\n",
              "      </script>\n",
              "    </div>\n",
              "  </div>\n",
              "  "
            ]
          },
          "metadata": {},
          "execution_count": 29
        }
      ],
      "source": [
        "data1.describe()"
      ]
    },
    {
      "cell_type": "markdown",
      "id": "7c381c91",
      "metadata": {
        "id": "7c381c91"
      },
      "source": [
        "## EDA or Data Analysis"
      ]
    },
    {
      "cell_type": "markdown",
      "id": "89949f1f",
      "metadata": {
        "id": "89949f1f"
      },
      "source": [
        "### Data Visualization"
      ]
    },
    {
      "cell_type": "code",
      "execution_count": null,
      "id": "405e5120",
      "metadata": {
        "id": "405e5120",
        "outputId": "34f8f30e-2985-462e-a24e-d3e01ec15efd",
        "colab": {
          "base_uri": "https://localhost:8080/",
          "height": 297
        }
      },
      "outputs": [
        {
          "output_type": "execute_result",
          "data": {
            "text/plain": [
              "<matplotlib.axes._subplots.AxesSubplot at 0x7fd957145710>"
            ]
          },
          "metadata": {},
          "execution_count": 30
        },
        {
          "output_type": "display_data",
          "data": {
            "text/plain": [
              "<Figure size 432x288 with 1 Axes>"
            ],
            "image/png": "[encoded data removed]"
          },
          "metadata": {
            "needs_background": "light"
          }
        }
      ],
      "source": [
        "sns.lineplot(x=\"DEP_DELAY\",y=\"ARR_DELAY\",data=data1)"
      ]
    },
    {
      "cell_type": "code",
      "execution_count": null,
      "id": "da4f0ce8",
      "metadata": {
        "id": "da4f0ce8",
        "outputId": "0ba44c9f-2d2a-405e-fbfb-1c12dc32de43",
        "colab": {
          "base_uri": "https://localhost:8080/",
          "height": 483
        }
      },
      "outputs": [
        {
          "output_type": "display_data",
          "data": {
            "text/plain": [
              "<Figure size 720x576 with 2 Axes>"
            ],
            "image/png": "[encoded data removed]"
          },
          "metadata": {
            "needs_background": "light"
          }
        }
      ],
      "source": [
        "plt.figure(figsize=(10,8))\n",
        "plt.subplot(2,1,1)\n",
        "plt.scatter(data1[\"DAY_OF_MONTH\"],data1[\"DEP_DELAY\"],color=\"red\")\n",
        "plt.subplot(2,1,2)\n",
        "plt.scatter(data1[\"DAY_OF_MONTH\"],data1[\"ARR_DELAY\"],color=\"yellow\")\n",
        "plt.show()"
      ]
    },
    {
      "cell_type": "code",
      "execution_count": null,
      "id": "76c574eb",
      "metadata": {
        "scrolled": true,
        "id": "76c574eb",
        "outputId": "b25d9522-9f76-4341-fe1c-3449bd980cf4",
        "colab": {
          "base_uri": "https://localhost:8080/",
          "height": 515
        }
      },
      "outputs": [
        {
          "output_type": "execute_result",
          "data": {
            "text/plain": [
              "<matplotlib.axes._subplots.AxesSubplot at 0x7fd955856790>"
            ]
          },
          "metadata": {},
          "execution_count": 32
        },
        {
          "output_type": "display_data",
          "data": {
            "text/plain": [
              "<Figure size 720x576 with 1 Axes>"
            ],
            "image/png": "[encoded data removed]"
          },
          "metadata": {
            "needs_background": "light"
          }
        }
      ],
      "source": [
        "plt.figure(figsize=(10,8))\n",
        "sns.boxplot(x=\"DAY_OF_WEEK\",y=\"DEP_DELAY\",data=data1,hue=\"DEP_DEL15\")"
      ]
    },
    {
      "cell_type": "code",
      "execution_count": null,
      "id": "33f2c7de",
      "metadata": {
        "id": "33f2c7de",
        "outputId": "eabce335-fe01-4d75-9817-781302350d85",
        "colab": {
          "base_uri": "https://localhost:8080/",
          "height": 406
        }
      },
      "outputs": [
        {
          "output_type": "execute_result",
          "data": {
            "text/plain": [
              "<matplotlib.axes._subplots.AxesSubplot at 0x7fd957129f10>"
            ]
          },
          "metadata": {},
          "execution_count": 33
        },
        {
          "output_type": "display_data",
          "data": {
            "text/plain": [
              "<Figure size 720x432 with 1 Axes>"
            ],
            "image/png": "[encoded data removed]"
          },
          "metadata": {
            "needs_background": "light"
          }
        }
      ],
      "source": [
        "plt.figure(figsize=(10,6))\n",
        "sns.boxplot(x=\"DAY_OF_WEEK\",y=\"ARR_DELAY\",data=data1,hue=\"ARR_DEL15\")"
      ]
    },
    {
      "cell_type": "code",
      "execution_count": null,
      "id": "0b89cc84",
      "metadata": {
        "id": "0b89cc84",
        "outputId": "d371b83c-9512-467c-9c94-c77104f7336c",
        "colab": {
          "base_uri": "https://localhost:8080/",
          "height": 405
        }
      },
      "outputs": [
        {
          "output_type": "execute_result",
          "data": {
            "text/plain": [
              "<matplotlib.axes._subplots.AxesSubplot at 0x7fd9571211d0>"
            ]
          },
          "metadata": {},
          "execution_count": 34
        },
        {
          "output_type": "display_data",
          "data": {
            "text/plain": [
              "<Figure size 720x432 with 1 Axes>"
            ],
            "image/png": "[encoded data removed]"
          },
          "metadata": {
            "needs_background": "light"
          }
        }
      ],
      "source": [
        "plt.figure(figsize=(10,6))\n",
        "sns.boxplot(x=\"MONTH\",y=\"ARR_DELAY\",data=data1,hue=\"DEP_DEL15\")"
      ]
    },
    {
      "cell_type": "code",
      "execution_count": null,
      "id": "ff92f701",
      "metadata": {
        "id": "ff92f701",
        "outputId": "ff759cf2-a25c-44a4-c38f-5cbad22a4828",
        "colab": {
          "base_uri": "https://localhost:8080/"
        }
      },
      "outputs": [
        {
          "output_type": "execute_result",
          "data": {
            "text/plain": [
              "DAY_OF_WEEK\n",
              "1    253.0\n",
              "2    213.0\n",
              "3    204.0\n",
              "4    245.0\n",
              "5    250.0\n",
              "6    198.0\n",
              "7    226.0\n",
              "Name: DEP_DEL15, dtype: float64"
            ]
          },
          "metadata": {},
          "execution_count": 35
        }
      ],
      "source": [
        "data1.groupby(by=\"DAY_OF_WEEK\")[\"DEP_DEL15\"].sum()"
      ]
    },
    {
      "cell_type": "code",
      "execution_count": null,
      "id": "848adfc9",
      "metadata": {
        "id": "848adfc9",
        "outputId": "c237768f-19ed-4cb2-c434-0a8e1df44d20",
        "colab": {
          "base_uri": "https://localhost:8080/"
        }
      },
      "outputs": [
        {
          "output_type": "execute_result",
          "data": {
            "text/plain": [
              "MONTH\n",
              "1     113.0\n",
              "2     115.0\n",
              "3     104.0\n",
              "4      96.0\n",
              "5      86.0\n",
              "6     168.0\n",
              "7     219.0\n",
              "8     246.0\n",
              "9      88.0\n",
              "10     86.0\n",
              "11     66.0\n",
              "12    202.0\n",
              "Name: DEP_DEL15, dtype: float64"
            ]
          },
          "metadata": {},
          "execution_count": 36
        }
      ],
      "source": [
        "data1.groupby(by=\"MONTH\")[\"DEP_DEL15\"].sum()"
      ]
    },
    {
      "cell_type": "code",
      "execution_count": null,
      "id": "f28f76fe",
      "metadata": {
        "id": "f28f76fe",
        "outputId": "eebbefbf-3405-4ba1-cf08-39ac54167bb0",
        "colab": {
          "base_uri": "https://localhost:8080/",
          "height": 1000
        }
      },
      "outputs": [
        {
          "output_type": "execute_result",
          "data": {
            "text/plain": [
              "       QUARTER  MONTH  DAY_OF_MONTH  DAY_OF_WEEK UNIQUE_CARRIER TAIL_NUM  \\\n",
              "202          1      1            10            7             DL   N125DL   \n",
              "565          1      1            24            7             DL    N3753   \n",
              "1199         1      2            16            2             DL   N935DL   \n",
              "1605         1      2            24            3             DL   N983DL   \n",
              "2535         1      3            18            5             DL   N809DN   \n",
              "2723         2      4            10            7             DL   N624AG   \n",
              "4814         2      6            16            4             DL   N319NB   \n",
              "5336         3      7             1            5             DL   N171DN   \n",
              "5340         3      7             1            5             DL   N355NB   \n",
              "5378         3      7             1            5             DL   N377NW   \n",
              "5524         3      7             7            4             DL   N684DA   \n",
              "5561         3      7             8            5             DL   N343NB   \n",
              "5751         3      7            13            3             DL   N991AT   \n",
              "6092         3      7            25            1             DL   N910DE   \n",
              "6195         3      7            28            4             DL   N988DL   \n",
              "6662         3      8             8            1             DL   N855DN   \n",
              "6672         3      8             8            1             DL   N923DL   \n",
              "6686         3      8             9            2             DL   N3763D   \n",
              "6693         3      8             8            1             DL   N587NW   \n",
              "6696         3      8             8            1             DL   N946DL   \n",
              "6701         3      8             8            1             DL   N339NW   \n",
              "6744         3      8             9            2             DL   N121DE   \n",
              "6767         3      8            11            4             DL   N936DL   \n",
              "6790         3      8            11            4             DL   N684DA   \n",
              "7129         3      8            19            5             DL   N695DL   \n",
              "7198         3      8             4            4             DL   N550NW   \n",
              "7259         3      8            22            1             DL   N537US   \n",
              "9239         4     10            30            7             DL   N710TW   \n",
              "10598        4     12            11            7             DL   N6705Y   \n",
              "10754        4     12            17            6             DL   N988DL   \n",
              "10761        4     12            17            6             DL   N988DL   \n",
              "\n",
              "       FL_NUM ORIGIN DEST  CRS_DEP_TIME  ...  DEP_DEL15  CRS_ARR_TIME  \\\n",
              "202      1893    DTW  ATL           835  ...        1.0          1049   \n",
              "565       463    JFK  ATL          1100  ...        1.0          1337   \n",
              "1199       86    MSP  DTW          1355  ...        1.0          1640   \n",
              "1605     1156    ATL  JFK          1740  ...        1.0          2007   \n",
              "2535     2330    SEA  ATL           845  ...        1.0          1631   \n",
              "2723     1336    SEA  JFK           749  ...        1.0          1600   \n",
              "4814     2816    JFK  MSP          1555  ...        1.0          1817   \n",
              "5336       43    JFK  ATL          1525  ...        1.0          1813   \n",
              "5340     2214    MSP  JFK          1735  ...        1.0          2132   \n",
              "5378      984    ATL  JFK          2115  ...        1.0          2344   \n",
              "5524     2218    SEA  DTW           735  ...        1.0          1455   \n",
              "5561     2816    JFK  MSP          1555  ...        1.0          1815   \n",
              "5751     1126    MSP  JFK          1346  ...        1.0          1745   \n",
              "6092      220    JFK  ATL          1925  ...        1.0          2215   \n",
              "6195      433    JFK  ATL          1350  ...        1.0          1628   \n",
              "6662      173    ATL  SEA          1636  ...        1.0          1902   \n",
              "6672     2350    ATL  JFK           802  ...        1.0          1020   \n",
              "6686      420    ATL  JFK          1344  ...        1.0          1618   \n",
              "6693      784    ATL  MSP           844  ...        1.0          1017   \n",
              "6696      902    ATL  DTW          1511  ...        1.0          1723   \n",
              "6701      987    ATL  MSP          1045  ...        1.0          1221   \n",
              "6744     2827    ATL  MSP          1949  ...        1.0          2131   \n",
              "6767       52    DTW  MSP           830  ...        1.0           930   \n",
              "6790     1444    SEA  DTW           540  ...        1.0          1255   \n",
              "7129     1542    SEA  JFK          1320  ...        1.0          2154   \n",
              "7198     1232    SEA  ATL          1246  ...        1.0          2039   \n",
              "7259     1444    SEA  DTW           540  ...        1.0          1255   \n",
              "9239      454    JFK  SEA          1600  ...        1.0          1918   \n",
              "10598    2174    DTW  ATL          1750  ...        1.0          1958   \n",
              "10754      53    MSP  DTW          1535  ...        1.0          1813   \n",
              "10761     603    DTW  MSP          2009  ...        1.0          2118   \n",
              "\n",
              "       ARR_TIME  ARR_DELAY  ARR_DEL15  CANCELLED  DIVERTED  CRS_ELAPSED_TIME  \\\n",
              "202      1615.0      326.0        1.0          0         0               134   \n",
              "565      2127.0      470.0        1.0          0         0               157   \n",
              "1199     2140.0      300.0        1.0          0         0               105   \n",
              "1605      218.0      371.0        1.0          0         0               147   \n",
              "2535      246.0      615.0        1.0          0         0               286   \n",
              "2723     2317.0      437.0        1.0          0         0               311   \n",
              "4814     2318.0      301.0        1.0          0         0               202   \n",
              "5336       27.0      374.0        1.0          0         0               168   \n",
              "5340      307.0      335.0        1.0          0         0               177   \n",
              "5378      604.0      380.0        1.0          0         0               149   \n",
              "5524     2354.0      539.0        1.0          0         0               260   \n",
              "5561        3.0      348.0        1.0          0         0               200   \n",
              "5751     2355.0      370.0        1.0          0         0               179   \n",
              "6092      421.0      366.0        1.0          0         0               170   \n",
              "6195        5.0      457.0        1.0          0         0               158   \n",
              "6662      140.0      398.0        1.0          0         0               326   \n",
              "6672     1723.0      423.0        1.0          0         0               138   \n",
              "6686     2253.0      395.0        1.0          0         0               154   \n",
              "6693     1741.0      444.0        1.0          0         0               153   \n",
              "6696     2333.0      370.0        1.0          0         0               132   \n",
              "6701     1741.0      320.0        1.0          0         0               156   \n",
              "6744      239.0      308.0        1.0          0         0               162   \n",
              "6767     1507.0      337.0        1.0          0         0               120   \n",
              "6790     1958.0      423.0        1.0          0         0               255   \n",
              "7129      806.0      612.0        1.0          0         0               334   \n",
              "7198      420.0      461.0        1.0          0         0               293   \n",
              "7259     2101.0      486.0        1.0          0         0               255   \n",
              "9239       20.0      302.0        1.0          0         0               378   \n",
              "10598     440.0      522.0        1.0          0         0               128   \n",
              "10754     129.0      436.0        1.0          0         0                98   \n",
              "10761     339.0      381.0        1.0          0         0               129   \n",
              "\n",
              "       ACTUAL_ELAPSED_TIME  DISTANCE  \n",
              "202                  156.0       594  \n",
              "565                  135.0       760  \n",
              "1199                  84.0       528  \n",
              "1605                 198.0       760  \n",
              "2535                 256.0      2182  \n",
              "2723                 299.0      2422  \n",
              "4814                 168.0      1029  \n",
              "5336                 207.0       760  \n",
              "5340                 190.0      1029  \n",
              "5378                 114.0       760  \n",
              "5524                 238.0      1927  \n",
              "5561                 196.0      1029  \n",
              "5751                 168.0      1029  \n",
              "6092                 121.0       760  \n",
              "6195                 164.0       760  \n",
              "6662                 287.0      2182  \n",
              "6672                 129.0       760  \n",
              "6686                 125.0       760  \n",
              "6693                 135.0       907  \n",
              "6696                 108.0       594  \n",
              "6701                 144.0       907  \n",
              "6744                 131.0       907  \n",
              "6767                  97.0       528  \n",
              "6790                 250.0      1927  \n",
              "7129                 321.0      2422  \n",
              "7198                 264.0      2182  \n",
              "7259                 240.0      1927  \n",
              "9239                 377.0      2422  \n",
              "10598                133.0       594  \n",
              "10754                 99.0       528  \n",
              "10761                133.0       528  \n",
              "\n",
              "[31 rows x 22 columns]"
            ],
            "text/html": [
              "\n",
              "  <div id=\"df-78f90a66-a4f0-4b7b-a2c4-9ee675e29226\">\n",
              "    <div class=\"colab-df-container\">\n",
              "      <div>\n",
              "<style scoped>\n",
              "    .dataframe tbody tr th:only-of-type {\n",
              "        vertical-align: middle;\n",
              "    }\n",
              "\n",
              "    .dataframe tbody tr th {\n",
              "        vertical-align: top;\n",
              "    }\n",
              "\n",
              "    .dataframe thead th {\n",
              "        text-align: right;\n",
              "    }\n",
              "</style>\n",
              "<table border=\"1\" class=\"dataframe\">\n",
              "  <thead>\n",
              "    <tr style=\"text-align: right;\">\n",
              "      <th></th>\n",
              "      <th>QUARTER</th>\n",
              "      <th>MONTH</th>\n",
              "      <th>DAY_OF_MONTH</th>\n",
              "      <th>DAY_OF_WEEK</th>\n",
              "      <th>UNIQUE_CARRIER</th>\n",
              "      <th>TAIL_NUM</th>\n",
              "      <th>FL_NUM</th>\n",
              "      <th>ORIGIN</th>\n",
              "      <th>DEST</th>\n",
              "      <th>CRS_DEP_TIME</th>\n",
              "      <th>...</th>\n",
              "      <th>DEP_DEL15</th>\n",
              "      <th>CRS_ARR_TIME</th>\n",
              "      <th>ARR_TIME</th>\n",
              "      <th>ARR_DELAY</th>\n",
              "      <th>ARR_DEL15</th>\n",
              "      <th>CANCELLED</th>\n",
              "      <th>DIVERTED</th>\n",
              "      <th>CRS_ELAPSED_TIME</th>\n",
              "      <th>ACTUAL_ELAPSED_TIME</th>\n",
              "      <th>DISTANCE</th>\n",
              "    </tr>\n",
              "  </thead>\n",
              "  <tbody>\n",
              "    <tr>\n",
              "      <th>202</th>\n",
              "      <td>1</td>\n",
              "      <td>1</td>\n",
              "      <td>10</td>\n",
              "      <td>7</td>\n",
              "      <td>DL</td>\n",
              "      <td>N125DL</td>\n",
              "      <td>1893</td>\n",
              "      <td>DTW</td>\n",
              "      <td>ATL</td>\n",
              "      <td>835</td>\n",
              "      <td>...</td>\n",
              "      <td>1.0</td>\n",
              "      <td>1049</td>\n",
              "      <td>1615.0</td>\n",
              "      <td>326.0</td>\n",
              "      <td>1.0</td>\n",
              "      <td>0</td>\n",
              "      <td>0</td>\n",
              "      <td>134</td>\n",
              "      <td>156.0</td>\n",
              "      <td>594</td>\n",
              "    </tr>\n",
              "    <tr>\n",
              "      <th>565</th>\n",
              "      <td>1</td>\n",
              "      <td>1</td>\n",
              "      <td>24</td>\n",
              "      <td>7</td>\n",
              "      <td>DL</td>\n",
              "      <td>N3753</td>\n",
              "      <td>463</td>\n",
              "      <td>JFK</td>\n",
              "      <td>ATL</td>\n",
              "      <td>1100</td>\n",
              "      <td>...</td>\n",
              "      <td>1.0</td>\n",
              "      <td>1337</td>\n",
              "      <td>2127.0</td>\n",
              "      <td>470.0</td>\n",
              "      <td>1.0</td>\n",
              "      <td>0</td>\n",
              "      <td>0</td>\n",
              "      <td>157</td>\n",
              "      <td>135.0</td>\n",
              "      <td>760</td>\n",
              "    </tr>\n",
              "    <tr>\n",
              "      <th>1199</th>\n",
              "      <td>1</td>\n",
              "      <td>2</td>\n",
              "      <td>16</td>\n",
              "      <td>2</td>\n",
              "      <td>DL</td>\n",
              "      <td>N935DL</td>\n",
              "      <td>86</td>\n",
              "      <td>MSP</td>\n",
              "      <td>DTW</td>\n",
              "      <td>1355</td>\n",
              "      <td>...</td>\n",
              "      <td>1.0</td>\n",
              "      <td>1640</td>\n",
              "      <td>2140.0</td>\n",
              "      <td>300.0</td>\n",
              "      <td>1.0</td>\n",
              "      <td>0</td>\n",
              "      <td>0</td>\n",
              "      <td>105</td>\n",
              "      <td>84.0</td>\n",
              "      <td>528</td>\n",
              "    </tr>\n",
              "    <tr>\n",
              "      <th>1605</th>\n",
              "      <td>1</td>\n",
              "      <td>2</td>\n",
              "      <td>24</td>\n",
              "      <td>3</td>\n",
              "      <td>DL</td>\n",
              "      <td>N983DL</td>\n",
              "      <td>1156</td>\n",
              "      <td>ATL</td>\n",
              "      <td>JFK</td>\n",
              "      <td>1740</td>\n",
              "      <td>...</td>\n",
              "      <td>1.0</td>\n",
              "      <td>2007</td>\n",
              "      <td>218.0</td>\n",
              "      <td>371.0</td>\n",
              "      <td>1.0</td>\n",
              "      <td>0</td>\n",
              "      <td>0</td>\n",
              "      <td>147</td>\n",
              "      <td>198.0</td>\n",
              "      <td>760</td>\n",
              "    </tr>\n",
              "    <tr>\n",
              "      <th>2535</th>\n",
              "      <td>1</td>\n",
              "      <td>3</td>\n",
              "      <td>18</td>\n",
              "      <td>5</td>\n",
              "      <td>DL</td>\n",
              "      <td>N809DN</td>\n",
              "      <td>2330</td>\n",
              "      <td>SEA</td>\n",
              "      <td>ATL</td>\n",
              "      <td>845</td>\n",
              "      <td>...</td>\n",
              "      <td>1.0</td>\n",
              "      <td>1631</td>\n",
              "      <td>246.0</td>\n",
              "      <td>615.0</td>\n",
              "      <td>1.0</td>\n",
              "      <td>0</td>\n",
              "      <td>0</td>\n",
              "      <td>286</td>\n",
              "      <td>256.0</td>\n",
              "      <td>2182</td>\n",
              "    </tr>\n",
              "    <tr>\n",
              "      <th>2723</th>\n",
              "      <td>2</td>\n",
              "      <td>4</td>\n",
              "      <td>10</td>\n",
              "      <td>7</td>\n",
              "      <td>DL</td>\n",
              "      <td>N624AG</td>\n",
              "      <td>1336</td>\n",
              "      <td>SEA</td>\n",
              "      <td>JFK</td>\n",
              "      <td>749</td>\n",
              "      <td>...</td>\n",
              "      <td>1.0</td>\n",
              "      <td>1600</td>\n",
              "      <td>2317.0</td>\n",
              "      <td>437.0</td>\n",
              "      <td>1.0</td>\n",
              "      <td>0</td>\n",
              "      <td>0</td>\n",
              "      <td>311</td>\n",
              "      <td>299.0</td>\n",
              "      <td>2422</td>\n",
              "    </tr>\n",
              "    <tr>\n",
              "      <th>4814</th>\n",
              "      <td>2</td>\n",
              "      <td>6</td>\n",
              "      <td>16</td>\n",
              "      <td>4</td>\n",
              "      <td>DL</td>\n",
              "      <td>N319NB</td>\n",
              "      <td>2816</td>\n",
              "      <td>JFK</td>\n",
              "      <td>MSP</td>\n",
              "      <td>1555</td>\n",
              "      <td>...</td>\n",
              "      <td>1.0</td>\n",
              "      <td>1817</td>\n",
              "      <td>2318.0</td>\n",
              "      <td>301.0</td>\n",
              "      <td>1.0</td>\n",
              "      <td>0</td>\n",
              "      <td>0</td>\n",
              "      <td>202</td>\n",
              "      <td>168.0</td>\n",
              "      <td>1029</td>\n",
              "    </tr>\n",
              "    <tr>\n",
              "      <th>5336</th>\n",
              "      <td>3</td>\n",
              "      <td>7</td>\n",
              "      <td>1</td>\n",
              "      <td>5</td>\n",
              "      <td>DL</td>\n",
              "      <td>N171DN</td>\n",
              "      <td>43</td>\n",
              "      <td>JFK</td>\n",
              "      <td>ATL</td>\n",
              "      <td>1525</td>\n",
              "      <td>...</td>\n",
              "      <td>1.0</td>\n",
              "      <td>1813</td>\n",
              "      <td>27.0</td>\n",
              "      <td>374.0</td>\n",
              "      <td>1.0</td>\n",
              "      <td>0</td>\n",
              "      <td>0</td>\n",
              "      <td>168</td>\n",
              "      <td>207.0</td>\n",
              "      <td>760</td>\n",
              "    </tr>\n",
              "    <tr>\n",
              "      <th>5340</th>\n",
              "      <td>3</td>\n",
              "      <td>7</td>\n",
              "      <td>1</td>\n",
              "      <td>5</td>\n",
              "      <td>DL</td>\n",
              "      <td>N355NB</td>\n",
              "      <td>2214</td>\n",
              "      <td>MSP</td>\n",
              "      <td>JFK</td>\n",
              "      <td>1735</td>\n",
              "      <td>...</td>\n",
              "      <td>1.0</td>\n",
              "      <td>2132</td>\n",
              "      <td>307.0</td>\n",
              "      <td>335.0</td>\n",
              "      <td>1.0</td>\n",
              "      <td>0</td>\n",
              "      <td>0</td>\n",
              "      <td>177</td>\n",
              "      <td>190.0</td>\n",
              "      <td>1029</td>\n",
              "    </tr>\n",
              "    <tr>\n",
              "      <th>5378</th>\n",
              "      <td>3</td>\n",
              "      <td>7</td>\n",
              "      <td>1</td>\n",
              "      <td>5</td>\n",
              "      <td>DL</td>\n",
              "      <td>N377NW</td>\n",
              "      <td>984</td>\n",
              "      <td>ATL</td>\n",
              "      <td>JFK</td>\n",
              "      <td>2115</td>\n",
              "      <td>...</td>\n",
              "      <td>1.0</td>\n",
              "      <td>2344</td>\n",
              "      <td>604.0</td>\n",
              "      <td>380.0</td>\n",
              "      <td>1.0</td>\n",
              "      <td>0</td>\n",
              "      <td>0</td>\n",
              "      <td>149</td>\n",
              "      <td>114.0</td>\n",
              "      <td>760</td>\n",
              "    </tr>\n",
              "    <tr>\n",
              "      <th>5524</th>\n",
              "      <td>3</td>\n",
              "      <td>7</td>\n",
              "      <td>7</td>\n",
              "      <td>4</td>\n",
              "      <td>DL</td>\n",
              "      <td>N684DA</td>\n",
              "      <td>2218</td>\n",
              "      <td>SEA</td>\n",
              "      <td>DTW</td>\n",
              "      <td>735</td>\n",
              "      <td>...</td>\n",
              "      <td>1.0</td>\n",
              "      <td>1455</td>\n",
              "      <td>2354.0</td>\n",
              "      <td>539.0</td>\n",
              "      <td>1.0</td>\n",
              "      <td>0</td>\n",
              "      <td>0</td>\n",
              "      <td>260</td>\n",
              "      <td>238.0</td>\n",
              "      <td>1927</td>\n",
              "    </tr>\n",
              "    <tr>\n",
              "      <th>5561</th>\n",
              "      <td>3</td>\n",
              "      <td>7</td>\n",
              "      <td>8</td>\n",
              "      <td>5</td>\n",
              "      <td>DL</td>\n",
              "      <td>N343NB</td>\n",
              "      <td>2816</td>\n",
              "      <td>JFK</td>\n",
              "      <td>MSP</td>\n",
              "      <td>1555</td>\n",
              "      <td>...</td>\n",
              "      <td>1.0</td>\n",
              "      <td>1815</td>\n",
              "      <td>3.0</td>\n",
              "      <td>348.0</td>\n",
              "      <td>1.0</td>\n",
              "      <td>0</td>\n",
              "      <td>0</td>\n",
              "      <td>200</td>\n",
              "      <td>196.0</td>\n",
              "      <td>1029</td>\n",
              "    </tr>\n",
              "    <tr>\n",
              "      <th>5751</th>\n",
              "      <td>3</td>\n",
              "      <td>7</td>\n",
              "      <td>13</td>\n",
              "      <td>3</td>\n",
              "      <td>DL</td>\n",
              "      <td>N991AT</td>\n",
              "      <td>1126</td>\n",
              "      <td>MSP</td>\n",
              "      <td>JFK</td>\n",
              "      <td>1346</td>\n",
              "      <td>...</td>\n",
              "      <td>1.0</td>\n",
              "      <td>1745</td>\n",
              "      <td>2355.0</td>\n",
              "      <td>370.0</td>\n",
              "      <td>1.0</td>\n",
              "      <td>0</td>\n",
              "      <td>0</td>\n",
              "      <td>179</td>\n",
              "      <td>168.0</td>\n",
              "      <td>1029</td>\n",
              "    </tr>\n",
              "    <tr>\n",
              "      <th>6092</th>\n",
              "      <td>3</td>\n",
              "      <td>7</td>\n",
              "      <td>25</td>\n",
              "      <td>1</td>\n",
              "      <td>DL</td>\n",
              "      <td>N910DE</td>\n",
              "      <td>220</td>\n",
              "      <td>JFK</td>\n",
              "      <td>ATL</td>\n",
              "      <td>1925</td>\n",
              "      <td>...</td>\n",
              "      <td>1.0</td>\n",
              "      <td>2215</td>\n",
              "      <td>421.0</td>\n",
              "      <td>366.0</td>\n",
              "      <td>1.0</td>\n",
              "      <td>0</td>\n",
              "      <td>0</td>\n",
              "      <td>170</td>\n",
              "      <td>121.0</td>\n",
              "      <td>760</td>\n",
              "    </tr>\n",
              "    <tr>\n",
              "      <th>6195</th>\n",
              "      <td>3</td>\n",
              "      <td>7</td>\n",
              "      <td>28</td>\n",
              "      <td>4</td>\n",
              "      <td>DL</td>\n",
              "      <td>N988DL</td>\n",
              "      <td>433</td>\n",
              "      <td>JFK</td>\n",
              "      <td>ATL</td>\n",
              "      <td>1350</td>\n",
              "      <td>...</td>\n",
              "      <td>1.0</td>\n",
              "      <td>1628</td>\n",
              "      <td>5.0</td>\n",
              "      <td>457.0</td>\n",
              "      <td>1.0</td>\n",
              "      <td>0</td>\n",
              "      <td>0</td>\n",
              "      <td>158</td>\n",
              "      <td>164.0</td>\n",
              "      <td>760</td>\n",
              "    </tr>\n",
              "    <tr>\n",
              "      <th>6662</th>\n",
              "      <td>3</td>\n",
              "      <td>8</td>\n",
              "      <td>8</td>\n",
              "      <td>1</td>\n",
              "      <td>DL</td>\n",
              "      <td>N855DN</td>\n",
              "      <td>173</td>\n",
              "      <td>ATL</td>\n",
              "      <td>SEA</td>\n",
              "      <td>1636</td>\n",
              "      <td>...</td>\n",
              "      <td>1.0</td>\n",
              "      <td>1902</td>\n",
              "      <td>140.0</td>\n",
              "      <td>398.0</td>\n",
              "      <td>1.0</td>\n",
              "      <td>0</td>\n",
              "      <td>0</td>\n",
              "      <td>326</td>\n",
              "      <td>287.0</td>\n",
              "      <td>2182</td>\n",
              "    </tr>\n",
              "    <tr>\n",
              "      <th>6672</th>\n",
              "      <td>3</td>\n",
              "      <td>8</td>\n",
              "      <td>8</td>\n",
              "      <td>1</td>\n",
              "      <td>DL</td>\n",
              "      <td>N923DL</td>\n",
              "      <td>2350</td>\n",
              "      <td>ATL</td>\n",
              "      <td>JFK</td>\n",
              "      <td>802</td>\n",
              "      <td>...</td>\n",
              "      <td>1.0</td>\n",
              "      <td>1020</td>\n",
              "      <td>1723.0</td>\n",
              "      <td>423.0</td>\n",
              "      <td>1.0</td>\n",
              "      <td>0</td>\n",
              "      <td>0</td>\n",
              "      <td>138</td>\n",
              "      <td>129.0</td>\n",
              "      <td>760</td>\n",
              "    </tr>\n",
              "    <tr>\n",
              "      <th>6686</th>\n",
              "      <td>3</td>\n",
              "      <td>8</td>\n",
              "      <td>9</td>\n",
              "      <td>2</td>\n",
              "      <td>DL</td>\n",
              "      <td>N3763D</td>\n",
              "      <td>420</td>\n",
              "      <td>ATL</td>\n",
              "      <td>JFK</td>\n",
              "      <td>1344</td>\n",
              "      <td>...</td>\n",
              "      <td>1.0</td>\n",
              "      <td>1618</td>\n",
              "      <td>2253.0</td>\n",
              "      <td>395.0</td>\n",
              "      <td>1.0</td>\n",
              "      <td>0</td>\n",
              "      <td>0</td>\n",
              "      <td>154</td>\n",
              "      <td>125.0</td>\n",
              "      <td>760</td>\n",
              "    </tr>\n",
              "    <tr>\n",
              "      <th>6693</th>\n",
              "      <td>3</td>\n",
              "      <td>8</td>\n",
              "      <td>8</td>\n",
              "      <td>1</td>\n",
              "      <td>DL</td>\n",
              "      <td>N587NW</td>\n",
              "      <td>784</td>\n",
              "      <td>ATL</td>\n",
              "      <td>MSP</td>\n",
              "      <td>844</td>\n",
              "      <td>...</td>\n",
              "      <td>1.0</td>\n",
              "      <td>1017</td>\n",
              "      <td>1741.0</td>\n",
              "      <td>444.0</td>\n",
              "      <td>1.0</td>\n",
              "      <td>0</td>\n",
              "      <td>0</td>\n",
              "      <td>153</td>\n",
              "      <td>135.0</td>\n",
              "      <td>907</td>\n",
              "    </tr>\n",
              "    <tr>\n",
              "      <th>6696</th>\n",
              "      <td>3</td>\n",
              "      <td>8</td>\n",
              "      <td>8</td>\n",
              "      <td>1</td>\n",
              "      <td>DL</td>\n",
              "      <td>N946DL</td>\n",
              "      <td>902</td>\n",
              "      <td>ATL</td>\n",
              "      <td>DTW</td>\n",
              "      <td>1511</td>\n",
              "      <td>...</td>\n",
              "      <td>1.0</td>\n",
              "      <td>1723</td>\n",
              "      <td>2333.0</td>\n",
              "      <td>370.0</td>\n",
              "      <td>1.0</td>\n",
              "      <td>0</td>\n",
              "      <td>0</td>\n",
              "      <td>132</td>\n",
              "      <td>108.0</td>\n",
              "      <td>594</td>\n",
              "    </tr>\n",
              "    <tr>\n",
              "      <th>6701</th>\n",
              "      <td>3</td>\n",
              "      <td>8</td>\n",
              "      <td>8</td>\n",
              "      <td>1</td>\n",
              "      <td>DL</td>\n",
              "      <td>N339NW</td>\n",
              "      <td>987</td>\n",
              "      <td>ATL</td>\n",
              "      <td>MSP</td>\n",
              "      <td>1045</td>\n",
              "      <td>...</td>\n",
              "      <td>1.0</td>\n",
              "      <td>1221</td>\n",
              "      <td>1741.0</td>\n",
              "      <td>320.0</td>\n",
              "      <td>1.0</td>\n",
              "      <td>0</td>\n",
              "      <td>0</td>\n",
              "      <td>156</td>\n",
              "      <td>144.0</td>\n",
              "      <td>907</td>\n",
              "    </tr>\n",
              "    <tr>\n",
              "      <th>6744</th>\n",
              "      <td>3</td>\n",
              "      <td>8</td>\n",
              "      <td>9</td>\n",
              "      <td>2</td>\n",
              "      <td>DL</td>\n",
              "      <td>N121DE</td>\n",
              "      <td>2827</td>\n",
              "      <td>ATL</td>\n",
              "      <td>MSP</td>\n",
              "      <td>1949</td>\n",
              "      <td>...</td>\n",
              "      <td>1.0</td>\n",
              "      <td>2131</td>\n",
              "      <td>239.0</td>\n",
              "      <td>308.0</td>\n",
              "      <td>1.0</td>\n",
              "      <td>0</td>\n",
              "      <td>0</td>\n",
              "      <td>162</td>\n",
              "      <td>131.0</td>\n",
              "      <td>907</td>\n",
              "    </tr>\n",
              "    <tr>\n",
              "      <th>6767</th>\n",
              "      <td>3</td>\n",
              "      <td>8</td>\n",
              "      <td>11</td>\n",
              "      <td>4</td>\n",
              "      <td>DL</td>\n",
              "      <td>N936DL</td>\n",
              "      <td>52</td>\n",
              "      <td>DTW</td>\n",
              "      <td>MSP</td>\n",
              "      <td>830</td>\n",
              "      <td>...</td>\n",
              "      <td>1.0</td>\n",
              "      <td>930</td>\n",
              "      <td>1507.0</td>\n",
              "      <td>337.0</td>\n",
              "      <td>1.0</td>\n",
              "      <td>0</td>\n",
              "      <td>0</td>\n",
              "      <td>120</td>\n",
              "      <td>97.0</td>\n",
              "      <td>528</td>\n",
              "    </tr>\n",
              "    <tr>\n",
              "      <th>6790</th>\n",
              "      <td>3</td>\n",
              "      <td>8</td>\n",
              "      <td>11</td>\n",
              "      <td>4</td>\n",
              "      <td>DL</td>\n",
              "      <td>N684DA</td>\n",
              "      <td>1444</td>\n",
              "      <td>SEA</td>\n",
              "      <td>DTW</td>\n",
              "      <td>540</td>\n",
              "      <td>...</td>\n",
              "      <td>1.0</td>\n",
              "      <td>1255</td>\n",
              "      <td>1958.0</td>\n",
              "      <td>423.0</td>\n",
              "      <td>1.0</td>\n",
              "      <td>0</td>\n",
              "      <td>0</td>\n",
              "      <td>255</td>\n",
              "      <td>250.0</td>\n",
              "      <td>1927</td>\n",
              "    </tr>\n",
              "    <tr>\n",
              "      <th>7129</th>\n",
              "      <td>3</td>\n",
              "      <td>8</td>\n",
              "      <td>19</td>\n",
              "      <td>5</td>\n",
              "      <td>DL</td>\n",
              "      <td>N695DL</td>\n",
              "      <td>1542</td>\n",
              "      <td>SEA</td>\n",
              "      <td>JFK</td>\n",
              "      <td>1320</td>\n",
              "      <td>...</td>\n",
              "      <td>1.0</td>\n",
              "      <td>2154</td>\n",
              "      <td>806.0</td>\n",
              "      <td>612.0</td>\n",
              "      <td>1.0</td>\n",
              "      <td>0</td>\n",
              "      <td>0</td>\n",
              "      <td>334</td>\n",
              "      <td>321.0</td>\n",
              "      <td>2422</td>\n",
              "    </tr>\n",
              "    <tr>\n",
              "      <th>7198</th>\n",
              "      <td>3</td>\n",
              "      <td>8</td>\n",
              "      <td>4</td>\n",
              "      <td>4</td>\n",
              "      <td>DL</td>\n",
              "      <td>N550NW</td>\n",
              "      <td>1232</td>\n",
              "      <td>SEA</td>\n",
              "      <td>ATL</td>\n",
              "      <td>1246</td>\n",
              "      <td>...</td>\n",
              "      <td>1.0</td>\n",
              "      <td>2039</td>\n",
              "      <td>420.0</td>\n",
              "      <td>461.0</td>\n",
              "      <td>1.0</td>\n",
              "      <td>0</td>\n",
              "      <td>0</td>\n",
              "      <td>293</td>\n",
              "      <td>264.0</td>\n",
              "      <td>2182</td>\n",
              "    </tr>\n",
              "    <tr>\n",
              "      <th>7259</th>\n",
              "      <td>3</td>\n",
              "      <td>8</td>\n",
              "      <td>22</td>\n",
              "      <td>1</td>\n",
              "      <td>DL</td>\n",
              "      <td>N537US</td>\n",
              "      <td>1444</td>\n",
              "      <td>SEA</td>\n",
              "      <td>DTW</td>\n",
              "      <td>540</td>\n",
              "      <td>...</td>\n",
              "      <td>1.0</td>\n",
              "      <td>1255</td>\n",
              "      <td>2101.0</td>\n",
              "      <td>486.0</td>\n",
              "      <td>1.0</td>\n",
              "      <td>0</td>\n",
              "      <td>0</td>\n",
              "      <td>255</td>\n",
              "      <td>240.0</td>\n",
              "      <td>1927</td>\n",
              "    </tr>\n",
              "    <tr>\n",
              "      <th>9239</th>\n",
              "      <td>4</td>\n",
              "      <td>10</td>\n",
              "      <td>30</td>\n",
              "      <td>7</td>\n",
              "      <td>DL</td>\n",
              "      <td>N710TW</td>\n",
              "      <td>454</td>\n",
              "      <td>JFK</td>\n",
              "      <td>SEA</td>\n",
              "      <td>1600</td>\n",
              "      <td>...</td>\n",
              "      <td>1.0</td>\n",
              "      <td>1918</td>\n",
              "      <td>20.0</td>\n",
              "      <td>302.0</td>\n",
              "      <td>1.0</td>\n",
              "      <td>0</td>\n",
              "      <td>0</td>\n",
              "      <td>378</td>\n",
              "      <td>377.0</td>\n",
              "      <td>2422</td>\n",
              "    </tr>\n",
              "    <tr>\n",
              "      <th>10598</th>\n",
              "      <td>4</td>\n",
              "      <td>12</td>\n",
              "      <td>11</td>\n",
              "      <td>7</td>\n",
              "      <td>DL</td>\n",
              "      <td>N6705Y</td>\n",
              "      <td>2174</td>\n",
              "      <td>DTW</td>\n",
              "      <td>ATL</td>\n",
              "      <td>1750</td>\n",
              "      <td>...</td>\n",
              "      <td>1.0</td>\n",
              "      <td>1958</td>\n",
              "      <td>440.0</td>\n",
              "      <td>522.0</td>\n",
              "      <td>1.0</td>\n",
              "      <td>0</td>\n",
              "      <td>0</td>\n",
              "      <td>128</td>\n",
              "      <td>133.0</td>\n",
              "      <td>594</td>\n",
              "    </tr>\n",
              "    <tr>\n",
              "      <th>10754</th>\n",
              "      <td>4</td>\n",
              "      <td>12</td>\n",
              "      <td>17</td>\n",
              "      <td>6</td>\n",
              "      <td>DL</td>\n",
              "      <td>N988DL</td>\n",
              "      <td>53</td>\n",
              "      <td>MSP</td>\n",
              "      <td>DTW</td>\n",
              "      <td>1535</td>\n",
              "      <td>...</td>\n",
              "      <td>1.0</td>\n",
              "      <td>1813</td>\n",
              "      <td>129.0</td>\n",
              "      <td>436.0</td>\n",
              "      <td>1.0</td>\n",
              "      <td>0</td>\n",
              "      <td>0</td>\n",
              "      <td>98</td>\n",
              "      <td>99.0</td>\n",
              "      <td>528</td>\n",
              "    </tr>\n",
              "    <tr>\n",
              "      <th>10761</th>\n",
              "      <td>4</td>\n",
              "      <td>12</td>\n",
              "      <td>17</td>\n",
              "      <td>6</td>\n",
              "      <td>DL</td>\n",
              "      <td>N988DL</td>\n",
              "      <td>603</td>\n",
              "      <td>DTW</td>\n",
              "      <td>MSP</td>\n",
              "      <td>2009</td>\n",
              "      <td>...</td>\n",
              "      <td>1.0</td>\n",
              "      <td>2118</td>\n",
              "      <td>339.0</td>\n",
              "      <td>381.0</td>\n",
              "      <td>1.0</td>\n",
              "      <td>0</td>\n",
              "      <td>0</td>\n",
              "      <td>129</td>\n",
              "      <td>133.0</td>\n",
              "      <td>528</td>\n",
              "    </tr>\n",
              "  </tbody>\n",
              "</table>\n",
              "<p>31 rows × 22 columns</p>\n",
              "</div>\n",
              "      <button class=\"colab-df-convert\" onclick=\"convertToInteractive('df-78f90a66-a4f0-4b7b-a2c4-9ee675e29226')\"\n",
              "              title=\"Convert this dataframe to an interactive table.\"\n",
              "              style=\"display:none;\">\n",
              "        \n",
              "  <svg xmlns=\"http://www.w3.org/2000/svg\" height=\"24px\"viewBox=\"0 0 24 24\"\n",
              "       width=\"24px\">\n",
              "    <path d=\"M0 0h24v24H0V0z\" fill=\"none\"/>\n",
              "    <path d=\"M18.56 5.44l.94 2.06.94-2.06 2.06-.94-2.06-.94-.94-2.06-.94 2.06-2.06.94zm-11 1L8.5 8.5l.94-2.06 2.06-.94-2.06-.94L8.5 2.5l-.94 2.06-2.06.94zm10 10l.94 2.06.94-2.06 2.06-.94-2.06-.94-.94-2.06-.94 2.06-2.06.94z\"/><path d=\"M17.41 7.96l-1.37-1.37c-.4-.4-.92-.59-1.43-.59-.52 0-1.04.2-1.43.59L10.3 9.45l-7.72 7.72c-.78.78-.78 2.05 0 2.83L4 21.41c.39.39.9.59 1.41.59.51 0 1.02-.2 1.41-.59l7.78-7.78 2.81-2.81c.8-.78.8-2.07 0-2.86zM5.41 20L4 18.59l7.72-7.72 1.47 1.35L5.41 20z\"/>\n",
              "  </svg>\n",
              "      </button>\n",
              "      \n",
              "  <style>\n",
              "    .colab-df-container {\n",
              "      display:flex;\n",
              "      flex-wrap:wrap;\n",
              "      gap: 12px;\n",
              "    }\n",
              "\n",
              "    .colab-df-convert {\n",
              "      background-color: #E8F0FE;\n",
              "      border: none;\n",
              "      border-radius: 50%;\n",
              "      cursor: pointer;\n",
              "      display: none;\n",
              "      fill: #1967D2;\n",
              "      height: 32px;\n",
              "      padding: 0 0 0 0;\n",
              "      width: 32px;\n",
              "    }\n",
              "\n",
              "    .colab-df-convert:hover {\n",
              "      background-color: #E2EBFA;\n",
              "      box-shadow: 0px 1px 2px rgba(60, 64, 67, 0.3), 0px 1px 3px 1px rgba(60, 64, 67, 0.15);\n",
              "      fill: #174EA6;\n",
              "    }\n",
              "\n",
              "    [theme=dark] .colab-df-convert {\n",
              "      background-color: #3B4455;\n",
              "      fill: #D2E3FC;\n",
              "    }\n",
              "\n",
              "    [theme=dark] .colab-df-convert:hover {\n",
              "      background-color: #434B5C;\n",
              "      box-shadow: 0px 1px 3px 1px rgba(0, 0, 0, 0.15);\n",
              "      filter: drop-shadow(0px 1px 2px rgba(0, 0, 0, 0.3));\n",
              "      fill: #FFFFFF;\n",
              "    }\n",
              "  </style>\n",
              "\n",
              "      <script>\n",
              "        const buttonEl =\n",
              "          document.querySelector('#df-78f90a66-a4f0-4b7b-a2c4-9ee675e29226 button.colab-df-convert');\n",
              "        buttonEl.style.display =\n",
              "          google.colab.kernel.accessAllowed ? 'block' : 'none';\n",
              "\n",
              "        async function convertToInteractive(key) {\n",
              "          const element = document.querySelector('#df-78f90a66-a4f0-4b7b-a2c4-9ee675e29226');\n",
              "          const dataTable =\n",
              "            await google.colab.kernel.invokeFunction('convertToInteractive',\n",
              "                                                     [key], {});\n",
              "          if (!dataTable) return;\n",
              "\n",
              "          const docLinkHtml = 'Like what you see? Visit the ' +\n",
              "            '<a target=\"_blank\" href=https://colab.research.google.com/notebooks/data_table.ipynb>data table notebook</a>'\n",
              "            + ' to learn more about interactive tables.';\n",
              "          element.innerHTML = '';\n",
              "          dataTable['output_type'] = 'display_data';\n",
              "          await google.colab.output.renderOutput(dataTable, element);\n",
              "          const docLink = document.createElement('div');\n",
              "          docLink.innerHTML = docLinkHtml;\n",
              "          element.appendChild(docLink);\n",
              "        }\n",
              "      </script>\n",
              "    </div>\n",
              "  </div>\n",
              "  "
            ]
          },
          "metadata": {},
          "execution_count": 37
        }
      ],
      "source": [
        "data1[data1[\"ARR_DELAY\"]>=300]"
      ]
    },
    {
      "cell_type": "markdown",
      "id": "c87d6615",
      "metadata": {
        "id": "c87d6615"
      },
      "source": [
        "### Feature Engineering"
      ]
    },
    {
      "cell_type": "code",
      "execution_count": null,
      "id": "580c2eaa",
      "metadata": {
        "id": "580c2eaa"
      },
      "outputs": [],
      "source": [
        "sm=[6,7,8]\n",
        "wt=[9,10,11]\n",
        "sp=[12,1,2,3]\n",
        "fl=[4,5]"
      ]
    },
    {
      "cell_type": "code",
      "execution_count": null,
      "id": "b4216633",
      "metadata": {
        "id": "b4216633"
      },
      "outputs": [],
      "source": [
        "data1[\"SEASON\"]=np.where(data1[\"MONTH\"].isin(sm),0,np.where(data1[\"MONTH\"].isin(wt),1,np.where(data1[\"MONTH\"].isin(sp),2,3)))"
      ]
    },
    {
      "cell_type": "code",
      "execution_count": null,
      "id": "8cad6487",
      "metadata": {
        "id": "8cad6487",
        "outputId": "ba865153-949f-4ce9-c998-b8107398c883",
        "colab": {
          "base_uri": "https://localhost:8080/"
        }
      },
      "outputs": [
        {
          "output_type": "execute_result",
          "data": {
            "text/plain": [
              "2    3441\n",
              "0    3184\n",
              "1    2808\n",
              "3    1798\n",
              "Name: SEASON, dtype: int64"
            ]
          },
          "metadata": {},
          "execution_count": 40
        }
      ],
      "source": [
        "data1[\"SEASON\"].value_counts()"
      ]
    },
    {
      "cell_type": "markdown",
      "id": "8ae9c4c4",
      "metadata": {
        "id": "8ae9c4c4"
      },
      "source": [
        "### Encoding Catagorical cloumns to numerical"
      ]
    },
    {
      "cell_type": "code",
      "execution_count": null,
      "id": "9ed49b2e",
      "metadata": {
        "id": "9ed49b2e"
      },
      "outputs": [],
      "source": [
        "data1[\"CANCELLED\"]=np.where(data1[\"CANCELLED\"]==1,4,0)"
      ]
    },
    {
      "cell_type": "code",
      "execution_count": null,
      "id": "c32e0276",
      "metadata": {
        "id": "c32e0276"
      },
      "outputs": [],
      "source": [
        "data1[\"DIVERTED\"]=np.where(data1[\"DIVERTED\"]==1,3,0)"
      ]
    },
    {
      "cell_type": "code",
      "execution_count": null,
      "id": "febf5f22",
      "metadata": {
        "id": "febf5f22",
        "outputId": "5f3ad9d5-1b57-4709-987a-36d38499ef03",
        "colab": {
          "base_uri": "https://localhost:8080/"
        }
      },
      "outputs": [
        {
          "output_type": "execute_result",
          "data": {
            "text/plain": [
              "(array([0, 4]), array([0, 3]))"
            ]
          },
          "metadata": {},
          "execution_count": 43
        }
      ],
      "source": [
        "data1.CANCELLED.unique(),data1.DIVERTED.unique()"
      ]
    },
    {
      "cell_type": "code",
      "execution_count": null,
      "id": "d49ff37d",
      "metadata": {
        "id": "d49ff37d",
        "outputId": "ca8dff97-fce7-4630-c1d9-8f36bbe13376",
        "colab": {
          "base_uri": "https://localhost:8080/"
        }
      },
      "outputs": [
        {
          "output_type": "execute_result",
          "data": {
            "text/plain": [
              "array([ 0.,  1.,  2., nan])"
            ]
          },
          "metadata": {},
          "execution_count": 44
        }
      ],
      "source": [
        "data1[\"DELAY_15\"]=data1[\"ARR_DEL15\"]+data1[\"DEP_DEL15\"]\n",
        "data1.DELAY_15.unique()"
      ]
    },
    {
      "cell_type": "code",
      "execution_count": null,
      "id": "1ff04bcf",
      "metadata": {
        "id": "1ff04bcf",
        "outputId": "d3259b39-2b15-457c-cd34-f004caaa4315",
        "colab": {
          "base_uri": "https://localhost:8080/"
        }
      },
      "outputs": [
        {
          "output_type": "execute_result",
          "data": {
            "text/plain": [
              "array([0., 1., 2.])"
            ]
          },
          "metadata": {},
          "execution_count": 45
        }
      ],
      "source": [
        "data1[\"DELAY_15\"].fillna(0,inplace=True)\n",
        "data1.DELAY_15.unique()"
      ]
    },
    {
      "cell_type": "markdown",
      "id": "9e25d10d",
      "metadata": {
        "id": "9e25d10d"
      },
      "source": [
        "### Feature Engineering"
      ]
    },
    {
      "cell_type": "code",
      "execution_count": null,
      "id": "95241ea8",
      "metadata": {
        "id": "95241ea8"
      },
      "outputs": [],
      "source": [
        "data1[\"NDELAY\"]=data1[\"DELAY_15\"]+data1[\"CANCELLED\"]+data1[\"DIVERTED\"]"
      ]
    },
    {
      "cell_type": "code",
      "execution_count": null,
      "id": "231b5336",
      "metadata": {
        "id": "231b5336",
        "outputId": "17d74dc9-d37c-46e5-961f-d41e648501cb",
        "colab": {
          "base_uri": "https://localhost:8080/"
        }
      },
      "outputs": [
        {
          "output_type": "execute_result",
          "data": {
            "text/plain": [
              "array([0., 1., 2., 3., 4.])"
            ]
          },
          "metadata": {},
          "execution_count": 47
        }
      ],
      "source": [
        "data1.NDELAY.unique()"
      ]
    },
    {
      "cell_type": "code",
      "execution_count": null,
      "id": "1e40e1ac",
      "metadata": {
        "id": "1e40e1ac",
        "outputId": "181cd718-1ff9-4cce-d9cd-5ec1bd3fe39b",
        "colab": {
          "base_uri": "https://localhost:8080/"
        }
      },
      "outputs": [
        {
          "output_type": "execute_result",
          "data": {
            "text/plain": [
              "(789, 690)"
            ]
          },
          "metadata": {},
          "execution_count": 48
        }
      ],
      "source": [
        "len(data1[\"TAIL_NUM\"].value_counts()),len(data1[\"FL_NUM\"].value_counts())"
      ]
    },
    {
      "cell_type": "code",
      "execution_count": null,
      "id": "936f79da",
      "metadata": {
        "id": "936f79da",
        "outputId": "75c30ccb-26fb-4fae-e2cf-e3889d6cbc68",
        "colab": {
          "base_uri": "https://localhost:8080/"
        }
      },
      "outputs": [
        {
          "output_type": "stream",
          "name": "stdout",
          "text": [
            "<class 'pandas.core.frame.DataFrame'>\n",
            "RangeIndex: 11231 entries, 0 to 11230\n",
            "Data columns (total 25 columns):\n",
            " #   Column               Non-Null Count  Dtype  \n",
            "---  ------               --------------  -----  \n",
            " 0   QUARTER              11231 non-null  int64  \n",
            " 1   MONTH                11231 non-null  int64  \n",
            " 2   DAY_OF_MONTH         11231 non-null  int64  \n",
            " 3   DAY_OF_WEEK          11231 non-null  int64  \n",
            " 4   UNIQUE_CARRIER       11231 non-null  object \n",
            " 5   TAIL_NUM             11231 non-null  object \n",
            " 6   FL_NUM               11231 non-null  int64  \n",
            " 7   ORIGIN               11231 non-null  object \n",
            " 8   DEST                 11231 non-null  object \n",
            " 9   CRS_DEP_TIME         11231 non-null  int64  \n",
            " 10  DEP_TIME             11124 non-null  float64\n",
            " 11  DEP_DELAY            11124 non-null  float64\n",
            " 12  DEP_DEL15            11124 non-null  float64\n",
            " 13  CRS_ARR_TIME         11231 non-null  int64  \n",
            " 14  ARR_TIME             11116 non-null  float64\n",
            " 15  ARR_DELAY            11043 non-null  float64\n",
            " 16  ARR_DEL15            11043 non-null  float64\n",
            " 17  CANCELLED            11231 non-null  int64  \n",
            " 18  DIVERTED             11231 non-null  int64  \n",
            " 19  CRS_ELAPSED_TIME     11231 non-null  int64  \n",
            " 20  ACTUAL_ELAPSED_TIME  11043 non-null  float64\n",
            " 21  DISTANCE             11231 non-null  int64  \n",
            " 22  SEASON               11231 non-null  int64  \n",
            " 23  DELAY_15             11231 non-null  float64\n",
            " 24  NDELAY               11231 non-null  float64\n",
            "dtypes: float64(9), int64(12), object(4)\n",
            "memory usage: 2.1+ MB\n"
          ]
        }
      ],
      "source": [
        "data1.info()"
      ]
    },
    {
      "cell_type": "markdown",
      "id": "9bf893e9",
      "metadata": {
        "id": "9bf893e9"
      },
      "source": [
        "## Droping Unnecessary Columns"
      ]
    },
    {
      "cell_type": "code",
      "execution_count": null,
      "id": "715cd448",
      "metadata": {
        "id": "715cd448",
        "outputId": "43657c9d-7066-4d60-d50b-8922b3b8a1bd",
        "colab": {
          "base_uri": "https://localhost:8080/",
          "height": 206
        }
      },
      "outputs": [
        {
          "output_type": "execute_result",
          "data": {
            "text/plain": [
              "   QUARTER  MONTH  DAY_OF_MONTH  DAY_OF_WEEK TAIL_NUM  FL_NUM ORIGIN DEST  \\\n",
              "0        1      1             1            5   N836DN    1399    ATL  SEA   \n",
              "1        1      1             1            5   N964DN    1476    DTW  MSP   \n",
              "2        1      1             1            5   N813DN    1597    ATL  SEA   \n",
              "3        1      1             1            5   N587NW    1768    SEA  MSP   \n",
              "4        1      1             1            5   N836DN    1823    SEA  DTW   \n",
              "\n",
              "   CRS_DEP_TIME  CRS_ARR_TIME  CRS_ELAPSED_TIME  ACTUAL_ELAPSED_TIME  \\\n",
              "0          1905          2143               338                295.0   \n",
              "1          1345          1435               110                115.0   \n",
              "2           940          1215               335                300.0   \n",
              "3           819          1335               196                205.0   \n",
              "4          2300           607               247                259.0   \n",
              "\n",
              "   DISTANCE  SEASON  NDELAY  \n",
              "0      2182       2     0.0  \n",
              "1       528       2     0.0  \n",
              "2      2182       2     0.0  \n",
              "3      1399       2     0.0  \n",
              "4      1927       2     0.0  "
            ],
            "text/html": [
              "\n",
              "  <div id=\"df-a1e7a111-9cbc-4394-82b6-ef7252ad15c1\">\n",
              "    <div class=\"colab-df-container\">\n",
              "      <div>\n",
              "<style scoped>\n",
              "    .dataframe tbody tr th:only-of-type {\n",
              "        vertical-align: middle;\n",
              "    }\n",
              "\n",
              "    .dataframe tbody tr th {\n",
              "        vertical-align: top;\n",
              "    }\n",
              "\n",
              "    .dataframe thead th {\n",
              "        text-align: right;\n",
              "    }\n",
              "</style>\n",
              "<table border=\"1\" class=\"dataframe\">\n",
              "  <thead>\n",
              "    <tr style=\"text-align: right;\">\n",
              "      <th></th>\n",
              "      <th>QUARTER</th>\n",
              "      <th>MONTH</th>\n",
              "      <th>DAY_OF_MONTH</th>\n",
              "      <th>DAY_OF_WEEK</th>\n",
              "      <th>TAIL_NUM</th>\n",
              "      <th>FL_NUM</th>\n",
              "      <th>ORIGIN</th>\n",
              "      <th>DEST</th>\n",
              "      <th>CRS_DEP_TIME</th>\n",
              "      <th>CRS_ARR_TIME</th>\n",
              "      <th>CRS_ELAPSED_TIME</th>\n",
              "      <th>ACTUAL_ELAPSED_TIME</th>\n",
              "      <th>DISTANCE</th>\n",
              "      <th>SEASON</th>\n",
              "      <th>NDELAY</th>\n",
              "    </tr>\n",
              "  </thead>\n",
              "  <tbody>\n",
              "    <tr>\n",
              "      <th>0</th>\n",
              "      <td>1</td>\n",
              "      <td>1</td>\n",
              "      <td>1</td>\n",
              "      <td>5</td>\n",
              "      <td>N836DN</td>\n",
              "      <td>1399</td>\n",
              "      <td>ATL</td>\n",
              "      <td>SEA</td>\n",
              "      <td>1905</td>\n",
              "      <td>2143</td>\n",
              "      <td>338</td>\n",
              "      <td>295.0</td>\n",
              "      <td>2182</td>\n",
              "      <td>2</td>\n",
              "      <td>0.0</td>\n",
              "    </tr>\n",
              "    <tr>\n",
              "      <th>1</th>\n",
              "      <td>1</td>\n",
              "      <td>1</td>\n",
              "      <td>1</td>\n",
              "      <td>5</td>\n",
              "      <td>N964DN</td>\n",
              "      <td>1476</td>\n",
              "      <td>DTW</td>\n",
              "      <td>MSP</td>\n",
              "      <td>1345</td>\n",
              "      <td>1435</td>\n",
              "      <td>110</td>\n",
              "      <td>115.0</td>\n",
              "      <td>528</td>\n",
              "      <td>2</td>\n",
              "      <td>0.0</td>\n",
              "    </tr>\n",
              "    <tr>\n",
              "      <th>2</th>\n",
              "      <td>1</td>\n",
              "      <td>1</td>\n",
              "      <td>1</td>\n",
              "      <td>5</td>\n",
              "      <td>N813DN</td>\n",
              "      <td>1597</td>\n",
              "      <td>ATL</td>\n",
              "      <td>SEA</td>\n",
              "      <td>940</td>\n",
              "      <td>1215</td>\n",
              "      <td>335</td>\n",
              "      <td>300.0</td>\n",
              "      <td>2182</td>\n",
              "      <td>2</td>\n",
              "      <td>0.0</td>\n",
              "    </tr>\n",
              "    <tr>\n",
              "      <th>3</th>\n",
              "      <td>1</td>\n",
              "      <td>1</td>\n",
              "      <td>1</td>\n",
              "      <td>5</td>\n",
              "      <td>N587NW</td>\n",
              "      <td>1768</td>\n",
              "      <td>SEA</td>\n",
              "      <td>MSP</td>\n",
              "      <td>819</td>\n",
              "      <td>1335</td>\n",
              "      <td>196</td>\n",
              "      <td>205.0</td>\n",
              "      <td>1399</td>\n",
              "      <td>2</td>\n",
              "      <td>0.0</td>\n",
              "    </tr>\n",
              "    <tr>\n",
              "      <th>4</th>\n",
              "      <td>1</td>\n",
              "      <td>1</td>\n",
              "      <td>1</td>\n",
              "      <td>5</td>\n",
              "      <td>N836DN</td>\n",
              "      <td>1823</td>\n",
              "      <td>SEA</td>\n",
              "      <td>DTW</td>\n",
              "      <td>2300</td>\n",
              "      <td>607</td>\n",
              "      <td>247</td>\n",
              "      <td>259.0</td>\n",
              "      <td>1927</td>\n",
              "      <td>2</td>\n",
              "      <td>0.0</td>\n",
              "    </tr>\n",
              "  </tbody>\n",
              "</table>\n",
              "</div>\n",
              "      <button class=\"colab-df-convert\" onclick=\"convertToInteractive('df-a1e7a111-9cbc-4394-82b6-ef7252ad15c1')\"\n",
              "              title=\"Convert this dataframe to an interactive table.\"\n",
              "              style=\"display:none;\">\n",
              "        \n",
              "  <svg xmlns=\"http://www.w3.org/2000/svg\" height=\"24px\"viewBox=\"0 0 24 24\"\n",
              "       width=\"24px\">\n",
              "    <path d=\"M0 0h24v24H0V0z\" fill=\"none\"/>\n",
              "    <path d=\"M18.56 5.44l.94 2.06.94-2.06 2.06-.94-2.06-.94-.94-2.06-.94 2.06-2.06.94zm-11 1L8.5 8.5l.94-2.06 2.06-.94-2.06-.94L8.5 2.5l-.94 2.06-2.06.94zm10 10l.94 2.06.94-2.06 2.06-.94-2.06-.94-.94-2.06-.94 2.06-2.06.94z\"/><path d=\"M17.41 7.96l-1.37-1.37c-.4-.4-.92-.59-1.43-.59-.52 0-1.04.2-1.43.59L10.3 9.45l-7.72 7.72c-.78.78-.78 2.05 0 2.83L4 21.41c.39.39.9.59 1.41.59.51 0 1.02-.2 1.41-.59l7.78-7.78 2.81-2.81c.8-.78.8-2.07 0-2.86zM5.41 20L4 18.59l7.72-7.72 1.47 1.35L5.41 20z\"/>\n",
              "  </svg>\n",
              "      </button>\n",
              "      \n",
              "  <style>\n",
              "    .colab-df-container {\n",
              "      display:flex;\n",
              "      flex-wrap:wrap;\n",
              "      gap: 12px;\n",
              "    }\n",
              "\n",
              "    .colab-df-convert {\n",
              "      background-color: #E8F0FE;\n",
              "      border: none;\n",
              "      border-radius: 50%;\n",
              "      cursor: pointer;\n",
              "      display: none;\n",
              "      fill: #1967D2;\n",
              "      height: 32px;\n",
              "      padding: 0 0 0 0;\n",
              "      width: 32px;\n",
              "    }\n",
              "\n",
              "    .colab-df-convert:hover {\n",
              "      background-color: #E2EBFA;\n",
              "      box-shadow: 0px 1px 2px rgba(60, 64, 67, 0.3), 0px 1px 3px 1px rgba(60, 64, 67, 0.15);\n",
              "      fill: #174EA6;\n",
              "    }\n",
              "\n",
              "    [theme=dark] .colab-df-convert {\n",
              "      background-color: #3B4455;\n",
              "      fill: #D2E3FC;\n",
              "    }\n",
              "\n",
              "    [theme=dark] .colab-df-convert:hover {\n",
              "      background-color: #434B5C;\n",
              "      box-shadow: 0px 1px 3px 1px rgba(0, 0, 0, 0.15);\n",
              "      filter: drop-shadow(0px 1px 2px rgba(0, 0, 0, 0.3));\n",
              "      fill: #FFFFFF;\n",
              "    }\n",
              "  </style>\n",
              "\n",
              "      <script>\n",
              "        const buttonEl =\n",
              "          document.querySelector('#df-a1e7a111-9cbc-4394-82b6-ef7252ad15c1 button.colab-df-convert');\n",
              "        buttonEl.style.display =\n",
              "          google.colab.kernel.accessAllowed ? 'block' : 'none';\n",
              "\n",
              "        async function convertToInteractive(key) {\n",
              "          const element = document.querySelector('#df-a1e7a111-9cbc-4394-82b6-ef7252ad15c1');\n",
              "          const dataTable =\n",
              "            await google.colab.kernel.invokeFunction('convertToInteractive',\n",
              "                                                     [key], {});\n",
              "          if (!dataTable) return;\n",
              "\n",
              "          const docLinkHtml = 'Like what you see? Visit the ' +\n",
              "            '<a target=\"_blank\" href=https://colab.research.google.com/notebooks/data_table.ipynb>data table notebook</a>'\n",
              "            + ' to learn more about interactive tables.';\n",
              "          element.innerHTML = '';\n",
              "          dataTable['output_type'] = 'display_data';\n",
              "          await google.colab.output.renderOutput(dataTable, element);\n",
              "          const docLink = document.createElement('div');\n",
              "          docLink.innerHTML = docLinkHtml;\n",
              "          element.appendChild(docLink);\n",
              "        }\n",
              "      </script>\n",
              "    </div>\n",
              "  </div>\n",
              "  "
            ]
          },
          "metadata": {},
          "execution_count": 50
        }
      ],
      "source": [
        "clm=[\"UNIQUE_CARRIER\",\"DEP_TIME\",\"DEP_DELAY\",\"DEP_DEL15\",\"ARR_TIME\",\"ARR_DELAY\",\"ARR_DEL15\",\"CANCELLED\",\"DIVERTED\",\"DELAY_15\"]\n",
        "data2=data1.drop(columns=clm)\n",
        "data2.head()"
      ]
    },
    {
      "cell_type": "code",
      "execution_count": null,
      "id": "0774763f",
      "metadata": {
        "id": "0774763f"
      },
      "outputs": [],
      "source": [
        "data3=data2.drop(columns=[\"TAIL_NUM\",\"FL_NUM\"])"
      ]
    },
    {
      "cell_type": "code",
      "execution_count": null,
      "id": "ed454eac",
      "metadata": {
        "id": "ed454eac",
        "outputId": "4f262ac9-63a3-4e6f-8484-f73b57473c12",
        "colab": {
          "base_uri": "https://localhost:8080/"
        }
      },
      "outputs": [
        {
          "output_type": "stream",
          "name": "stdout",
          "text": [
            "<class 'pandas.core.frame.DataFrame'>\n",
            "RangeIndex: 11231 entries, 0 to 11230\n",
            "Data columns (total 13 columns):\n",
            " #   Column               Non-Null Count  Dtype  \n",
            "---  ------               --------------  -----  \n",
            " 0   QUARTER              11231 non-null  int64  \n",
            " 1   MONTH                11231 non-null  int64  \n",
            " 2   DAY_OF_MONTH         11231 non-null  int64  \n",
            " 3   DAY_OF_WEEK          11231 non-null  int64  \n",
            " 4   ORIGIN               11231 non-null  object \n",
            " 5   DEST                 11231 non-null  object \n",
            " 6   CRS_DEP_TIME         11231 non-null  int64  \n",
            " 7   CRS_ARR_TIME         11231 non-null  int64  \n",
            " 8   CRS_ELAPSED_TIME     11231 non-null  int64  \n",
            " 9   ACTUAL_ELAPSED_TIME  11043 non-null  float64\n",
            " 10  DISTANCE             11231 non-null  int64  \n",
            " 11  SEASON               11231 non-null  int64  \n",
            " 12  NDELAY               11231 non-null  float64\n",
            "dtypes: float64(2), int64(9), object(2)\n",
            "memory usage: 1.1+ MB\n"
          ]
        }
      ],
      "source": [
        "data3.info()"
      ]
    },
    {
      "cell_type": "code",
      "execution_count": null,
      "id": "0b89760c",
      "metadata": {
        "id": "0b89760c",
        "outputId": "181e5085-caed-4927-dfaa-d02e5970b5ec",
        "colab": {
          "base_uri": "https://localhost:8080/",
          "height": 725
        }
      },
      "outputs": [
        {
          "output_type": "execute_result",
          "data": {
            "text/plain": [
              "array([[<matplotlib.axes._subplots.AxesSubplot object at 0x7fd95523d590>,\n",
              "        <matplotlib.axes._subplots.AxesSubplot object at 0x7fd9551e3c90>,\n",
              "        <matplotlib.axes._subplots.AxesSubplot object at 0x7fd9551a5290>],\n",
              "       [<matplotlib.axes._subplots.AxesSubplot object at 0x7fd95515e890>,\n",
              "        <matplotlib.axes._subplots.AxesSubplot object at 0x7fd955114e90>,\n",
              "        <matplotlib.axes._subplots.AxesSubplot object at 0x7fd9550da4d0>],\n",
              "       [<matplotlib.axes._subplots.AxesSubplot object at 0x7fd95508fad0>,\n",
              "        <matplotlib.axes._subplots.AxesSubplot object at 0x7fd955052110>,\n",
              "        <matplotlib.axes._subplots.AxesSubplot object at 0x7fd95505e090>],\n",
              "       [<matplotlib.axes._subplots.AxesSubplot object at 0x7fd955015750>,\n",
              "        <matplotlib.axes._subplots.AxesSubplot object at 0x7fd954ffea90>,\n",
              "        <matplotlib.axes._subplots.AxesSubplot object at 0x7fd954fb6f90>]],\n",
              "      dtype=object)"
            ]
          },
          "metadata": {},
          "execution_count": 53
        },
        {
          "output_type": "display_data",
          "data": {
            "text/plain": [
              "<Figure size 864x576 with 12 Axes>"
            ],
            "image/png": "[encoded data removed]"
          },
          "metadata": {
            "needs_background": "light"
          }
        }
      ],
      "source": [
        "data3.hist(figsize=(12,8))"
      ]
    },
    {
      "cell_type": "code",
      "execution_count": null,
      "id": "c6c72fc7",
      "metadata": {
        "id": "c6c72fc7",
        "outputId": "729a7a5e-405f-47fd-d375-a7c8ecde1506",
        "colab": {
          "base_uri": "https://localhost:8080/",
          "height": 296
        }
      },
      "outputs": [
        {
          "output_type": "execute_result",
          "data": {
            "text/plain": [
              "<matplotlib.axes._subplots.AxesSubplot at 0x7fd954d20ad0>"
            ]
          },
          "metadata": {},
          "execution_count": 54
        },
        {
          "output_type": "display_data",
          "data": {
            "text/plain": [
              "<Figure size 432x288 with 1 Axes>"
            ],
            "image/png": "[encoded data removed]"
          },
          "metadata": {
            "needs_background": "light"
          }
        }
      ],
      "source": [
        "sns.boxplot(x='DISTANCE',data=data3)"
      ]
    },
    {
      "cell_type": "code",
      "execution_count": null,
      "id": "ba5e8e44",
      "metadata": {
        "id": "ba5e8e44",
        "outputId": "b8a35898-1fd9-4261-8072-98a8fa7a3458",
        "colab": {
          "base_uri": "https://localhost:8080/"
        }
      },
      "outputs": [
        {
          "output_type": "execute_result",
          "data": {
            "text/plain": [
              "0.0    9130\n",
              "2.0    1035\n",
              "1.0     878\n",
              "4.0     114\n",
              "3.0      74\n",
              "Name: NDELAY, dtype: int64"
            ]
          },
          "metadata": {},
          "execution_count": 55
        }
      ],
      "source": [
        "data3.NDELAY.value_counts()"
      ]
    },
    {
      "cell_type": "markdown",
      "id": "c6f7bf6a",
      "metadata": {
        "id": "c6f7bf6a"
      },
      "source": [
        "## Spliting Dependent and Independent Variables"
      ]
    },
    {
      "cell_type": "code",
      "execution_count": null,
      "id": "005a7178",
      "metadata": {
        "id": "005a7178"
      },
      "outputs": [],
      "source": [
        "x=data2.drop(columns=[\"NDELAY\",\"TAIL_NUM\"])\n",
        "y=data2.NDELAY"
      ]
    },
    {
      "cell_type": "markdown",
      "id": "a9f68f61",
      "metadata": {
        "id": "a9f68f61"
      },
      "source": [
        "### Encoding Categorical cloumns to numerical"
      ]
    },
    {
      "cell_type": "code",
      "execution_count": null,
      "id": "0822f4fb",
      "metadata": {
        "id": "0822f4fb"
      },
      "outputs": [],
      "source": [
        "x[\"ORIGIN\"].replace({\"ATL\":1,'DTW':2,'JFK':3,'MSP':4,'SEA':5},inplace=True)\n",
        "x[\"DEST\"].replace({\"ATL\":1,'DTW':2,'JFK':3,'MSP':4,'SEA':5},inplace=True)"
      ]
    },
    {
      "cell_type": "markdown",
      "id": "9c8713af",
      "metadata": {
        "id": "9c8713af"
      },
      "source": [
        "## Balancing Dataset Using SMOTE Technique"
      ]
    },
    {
      "cell_type": "markdown",
      "id": "420c051c",
      "metadata": {
        "id": "420c051c"
      },
      "source": [
        "## Splitting Dataset as Training and Testing data"
      ]
    },
    {
      "cell_type": "code",
      "execution_count": null,
      "id": "7330974b",
      "metadata": {
        "id": "7330974b"
      },
      "outputs": [],
      "source": [
        "from sklearn.model_selection import train_test_split\n",
        "x_train,x_test,y_train,y_test=train_test_split(x,y,test_size=0.2,random_state=42)"
      ]
    },
    {
      "cell_type": "code",
      "execution_count": null,
      "id": "43e6b92a",
      "metadata": {
        "id": "43e6b92a",
        "outputId": "0d367dc8-0b14-4b27-a8e3-173fb45ad879",
        "colab": {
          "base_uri": "https://localhost:8080/"
        }
      },
      "outputs": [
        {
          "output_type": "execute_result",
          "data": {
            "text/plain": [
              "((8984, 13), (2247, 13))"
            ]
          },
          "metadata": {},
          "execution_count": 62
        }
      ],
      "source": [
        "x_train.shape,x_test.shape"
      ]
    },
    {
      "cell_type": "code",
      "source": [
        "x_train.isna().sum()"
      ],
      "metadata": {
        "colab": {
          "base_uri": "https://localhost:8080/"
        },
        "id": "xxIxFkGpZifq",
        "outputId": "e0e0f5cd-2406-4eaf-a493-b2412a028103"
      },
      "id": "xxIxFkGpZifq",
      "execution_count": null,
      "outputs": [
        {
          "output_type": "execute_result",
          "data": {
            "text/plain": [
              "QUARTER                  0\n",
              "MONTH                    0\n",
              "DAY_OF_MONTH             0\n",
              "DAY_OF_WEEK              0\n",
              "FL_NUM                   0\n",
              "ORIGIN                   0\n",
              "DEST                     0\n",
              "CRS_DEP_TIME             0\n",
              "CRS_ARR_TIME             0\n",
              "CRS_ELAPSED_TIME         0\n",
              "ACTUAL_ELAPSED_TIME    157\n",
              "DISTANCE                 0\n",
              "SEASON                   0\n",
              "dtype: int64"
            ]
          },
          "metadata": {},
          "execution_count": 64
        }
      ]
    },
    {
      "cell_type": "code",
      "source": [
        "x_train1=x_train.drop(columns=[\"ACTUAL_ELAPSED_TIME\"])"
      ],
      "metadata": {
        "id": "6J6m2udLZ4jN"
      },
      "id": "6J6m2udLZ4jN",
      "execution_count": null,
      "outputs": []
    },
    {
      "cell_type": "code",
      "source": [
        "x_train1.isna().sum()"
      ],
      "metadata": {
        "colab": {
          "base_uri": "https://localhost:8080/"
        },
        "id": "cUxim6WtZ84u",
        "outputId": "8eaa07da-67fe-4718-a0be-94d4a563aedf"
      },
      "id": "cUxim6WtZ84u",
      "execution_count": null,
      "outputs": [
        {
          "output_type": "execute_result",
          "data": {
            "text/plain": [
              "QUARTER             0\n",
              "MONTH               0\n",
              "DAY_OF_MONTH        0\n",
              "DAY_OF_WEEK         0\n",
              "FL_NUM              0\n",
              "ORIGIN              0\n",
              "DEST                0\n",
              "CRS_DEP_TIME        0\n",
              "CRS_ARR_TIME        0\n",
              "CRS_ELAPSED_TIME    0\n",
              "DISTANCE            0\n",
              "SEASON              0\n",
              "dtype: int64"
            ]
          },
          "metadata": {},
          "execution_count": 71
        }
      ]
    },
    {
      "cell_type": "code",
      "source": [
        "y_train.isna().sum()"
      ],
      "metadata": {
        "colab": {
          "base_uri": "https://localhost:8080/"
        },
        "id": "52r_cGzpZyqD",
        "outputId": "e8d41cb7-9ab5-4cb2-fc3f-256abdd78917"
      },
      "id": "52r_cGzpZyqD",
      "execution_count": null,
      "outputs": [
        {
          "output_type": "execute_result",
          "data": {
            "text/plain": [
              "0"
            ]
          },
          "metadata": {},
          "execution_count": 65
        }
      ]
    },
    {
      "cell_type": "code",
      "source": [
        "x_test.isna().sum()"
      ],
      "metadata": {
        "colab": {
          "base_uri": "https://localhost:8080/"
        },
        "id": "Wmsv_2Uyad-2",
        "outputId": "afabfdce-9765-4167-892c-9be8f43a9a3c"
      },
      "id": "Wmsv_2Uyad-2",
      "execution_count": null,
      "outputs": [
        {
          "output_type": "execute_result",
          "data": {
            "text/plain": [
              "QUARTER                 0\n",
              "MONTH                   0\n",
              "DAY_OF_MONTH            0\n",
              "DAY_OF_WEEK             0\n",
              "FL_NUM                  0\n",
              "ORIGIN                  0\n",
              "DEST                    0\n",
              "CRS_DEP_TIME            0\n",
              "CRS_ARR_TIME            0\n",
              "CRS_ELAPSED_TIME        0\n",
              "ACTUAL_ELAPSED_TIME    31\n",
              "DISTANCE                0\n",
              "SEASON                  0\n",
              "dtype: int64"
            ]
          },
          "metadata": {},
          "execution_count": 73
        }
      ]
    },
    {
      "cell_type": "code",
      "source": [
        "x_test1=x_test.drop(columns=[\"ACTUAL_ELAPSED_TIME\"])"
      ],
      "metadata": {
        "id": "dIQu_NRiamXI"
      },
      "id": "dIQu_NRiamXI",
      "execution_count": null,
      "outputs": []
    },
    {
      "cell_type": "code",
      "source": [
        "x_test1.isna().sum()"
      ],
      "metadata": {
        "colab": {
          "base_uri": "https://localhost:8080/"
        },
        "id": "5nw5vLwfar_2",
        "outputId": "3d9797fb-4f96-439b-818a-fbb837ea5130"
      },
      "id": "5nw5vLwfar_2",
      "execution_count": null,
      "outputs": [
        {
          "output_type": "execute_result",
          "data": {
            "text/plain": [
              "QUARTER             0\n",
              "MONTH               0\n",
              "DAY_OF_MONTH        0\n",
              "DAY_OF_WEEK         0\n",
              "FL_NUM              0\n",
              "ORIGIN              0\n",
              "DEST                0\n",
              "CRS_DEP_TIME        0\n",
              "CRS_ARR_TIME        0\n",
              "CRS_ELAPSED_TIME    0\n",
              "DISTANCE            0\n",
              "SEASON              0\n",
              "dtype: int64"
            ]
          },
          "metadata": {},
          "execution_count": 77
        }
      ]
    },
    {
      "cell_type": "markdown",
      "id": "ebb3b7ac",
      "metadata": {
        "id": "ebb3b7ac"
      },
      "source": [
        "# Model Building"
      ]
    },
    {
      "cell_type": "markdown",
      "id": "bfc69a40",
      "metadata": {
        "id": "bfc69a40"
      },
      "source": [
        "### DecisionTree"
      ]
    },
    {
      "cell_type": "code",
      "execution_count": null,
      "id": "9e777832",
      "metadata": {
        "id": "9e777832",
        "outputId": "bcf995b7-e094-4c95-98b9-9d0cd7331130",
        "colab": {
          "base_uri": "https://localhost:8080/"
        }
      },
      "outputs": [
        {
          "output_type": "execute_result",
          "data": {
            "text/plain": [
              "0.6875834445927904"
            ]
          },
          "metadata": {},
          "execution_count": 78
        }
      ],
      "source": [
        "from sklearn.tree import DecisionTreeClassifier\n",
        "dc=DecisionTreeClassifier()\n",
        "dc.fit(x_train1,y_train)\n",
        "dc.score(x_test1,y_test)"
      ]
    },
    {
      "cell_type": "markdown",
      "id": "36d903ad",
      "metadata": {
        "id": "36d903ad"
      },
      "source": [
        "### RandomForest"
      ]
    },
    {
      "cell_type": "code",
      "execution_count": null,
      "id": "06709953",
      "metadata": {
        "id": "06709953",
        "outputId": "499fd277-0d6f-4c46-b488-61ee4e01af2e",
        "colab": {
          "base_uri": "https://localhost:8080/"
        }
      },
      "outputs": [
        {
          "output_type": "execute_result",
          "data": {
            "text/plain": [
              "0.7903871829105474"
            ]
          },
          "metadata": {},
          "execution_count": 79
        }
      ],
      "source": [
        "from sklearn.ensemble import RandomForestClassifier\n",
        "rf=RandomForestClassifier(n_estimators=50,random_state=42)\n",
        "rf.fit(x_train1,y_train)\n",
        "rf.score(x_test1,y_test)"
      ]
    },
    {
      "cell_type": "code",
      "execution_count": null,
      "id": "0ebd4360",
      "metadata": {
        "id": "0ebd4360",
        "outputId": "7da3e72f-47f2-4368-86c8-307b8d1f1186",
        "colab": {
          "base_uri": "https://localhost:8080/"
        }
      },
      "outputs": [
        {
          "output_type": "execute_result",
          "data": {
            "text/plain": [
              "0.0    2121\n",
              "2.0      70\n",
              "1.0      50\n",
              "4.0       4\n",
              "3.0       2\n",
              "dtype: int64"
            ]
          },
          "metadata": {},
          "execution_count": 80
        }
      ],
      "source": [
        "pd.DataFrame(rf.predict(x_test1)).value_counts()"
      ]
    },
    {
      "cell_type": "code",
      "execution_count": null,
      "id": "432b32ba",
      "metadata": {
        "id": "432b32ba",
        "outputId": "e072afdb-4966-4092-ff71-71d0130ecde0",
        "colab": {
          "base_uri": "https://localhost:8080/",
          "height": 143
        }
      },
      "outputs": [
        {
          "output_type": "execute_result",
          "data": {
            "text/plain": [
              "       QUARTER  MONTH  DAY_OF_MONTH  DAY_OF_WEEK  FL_NUM  ORIGIN  DEST  \\\n",
              "4352         2      6             1            3     785       4     1   \n",
              "4572         2      6             9            4     449       3     4   \n",
              "10568        4     12             5            1    1130       2     1   \n",
              "\n",
              "       CRS_DEP_TIME  CRS_ARR_TIME  CRS_ELAPSED_TIME  DISTANCE  SEASON  \n",
              "4352           1300          1635               155       907       0  \n",
              "4572            805          1020               195      1029       0  \n",
              "10568          1910          2114               124       594       2  "
            ],
            "text/html": [
              "\n",
              "  <div id=\"df-3005e6b5-73fe-4905-ad39-34278bedaf47\">\n",
              "    <div class=\"colab-df-container\">\n",
              "      <div>\n",
              "<style scoped>\n",
              "    .dataframe tbody tr th:only-of-type {\n",
              "        vertical-align: middle;\n",
              "    }\n",
              "\n",
              "    .dataframe tbody tr th {\n",
              "        vertical-align: top;\n",
              "    }\n",
              "\n",
              "    .dataframe thead th {\n",
              "        text-align: right;\n",
              "    }\n",
              "</style>\n",
              "<table border=\"1\" class=\"dataframe\">\n",
              "  <thead>\n",
              "    <tr style=\"text-align: right;\">\n",
              "      <th></th>\n",
              "      <th>QUARTER</th>\n",
              "      <th>MONTH</th>\n",
              "      <th>DAY_OF_MONTH</th>\n",
              "      <th>DAY_OF_WEEK</th>\n",
              "      <th>FL_NUM</th>\n",
              "      <th>ORIGIN</th>\n",
              "      <th>DEST</th>\n",
              "      <th>CRS_DEP_TIME</th>\n",
              "      <th>CRS_ARR_TIME</th>\n",
              "      <th>CRS_ELAPSED_TIME</th>\n",
              "      <th>DISTANCE</th>\n",
              "      <th>SEASON</th>\n",
              "    </tr>\n",
              "  </thead>\n",
              "  <tbody>\n",
              "    <tr>\n",
              "      <th>4352</th>\n",
              "      <td>2</td>\n",
              "      <td>6</td>\n",
              "      <td>1</td>\n",
              "      <td>3</td>\n",
              "      <td>785</td>\n",
              "      <td>4</td>\n",
              "      <td>1</td>\n",
              "      <td>1300</td>\n",
              "      <td>1635</td>\n",
              "      <td>155</td>\n",
              "      <td>907</td>\n",
              "      <td>0</td>\n",
              "    </tr>\n",
              "    <tr>\n",
              "      <th>4572</th>\n",
              "      <td>2</td>\n",
              "      <td>6</td>\n",
              "      <td>9</td>\n",
              "      <td>4</td>\n",
              "      <td>449</td>\n",
              "      <td>3</td>\n",
              "      <td>4</td>\n",
              "      <td>805</td>\n",
              "      <td>1020</td>\n",
              "      <td>195</td>\n",
              "      <td>1029</td>\n",
              "      <td>0</td>\n",
              "    </tr>\n",
              "    <tr>\n",
              "      <th>10568</th>\n",
              "      <td>4</td>\n",
              "      <td>12</td>\n",
              "      <td>5</td>\n",
              "      <td>1</td>\n",
              "      <td>1130</td>\n",
              "      <td>2</td>\n",
              "      <td>1</td>\n",
              "      <td>1910</td>\n",
              "      <td>2114</td>\n",
              "      <td>124</td>\n",
              "      <td>594</td>\n",
              "      <td>2</td>\n",
              "    </tr>\n",
              "  </tbody>\n",
              "</table>\n",
              "</div>\n",
              "      <button class=\"colab-df-convert\" onclick=\"convertToInteractive('df-3005e6b5-73fe-4905-ad39-34278bedaf47')\"\n",
              "              title=\"Convert this dataframe to an interactive table.\"\n",
              "              style=\"display:none;\">\n",
              "        \n",
              "  <svg xmlns=\"http://www.w3.org/2000/svg\" height=\"24px\"viewBox=\"0 0 24 24\"\n",
              "       width=\"24px\">\n",
              "    <path d=\"M0 0h24v24H0V0z\" fill=\"none\"/>\n",
              "    <path d=\"M18.56 5.44l.94 2.06.94-2.06 2.06-.94-2.06-.94-.94-2.06-.94 2.06-2.06.94zm-11 1L8.5 8.5l.94-2.06 2.06-.94-2.06-.94L8.5 2.5l-.94 2.06-2.06.94zm10 10l.94 2.06.94-2.06 2.06-.94-2.06-.94-.94-2.06-.94 2.06-2.06.94z\"/><path d=\"M17.41 7.96l-1.37-1.37c-.4-.4-.92-.59-1.43-.59-.52 0-1.04.2-1.43.59L10.3 9.45l-7.72 7.72c-.78.78-.78 2.05 0 2.83L4 21.41c.39.39.9.59 1.41.59.51 0 1.02-.2 1.41-.59l7.78-7.78 2.81-2.81c.8-.78.8-2.07 0-2.86zM5.41 20L4 18.59l7.72-7.72 1.47 1.35L5.41 20z\"/>\n",
              "  </svg>\n",
              "      </button>\n",
              "      \n",
              "  <style>\n",
              "    .colab-df-container {\n",
              "      display:flex;\n",
              "      flex-wrap:wrap;\n",
              "      gap: 12px;\n",
              "    }\n",
              "\n",
              "    .colab-df-convert {\n",
              "      background-color: #E8F0FE;\n",
              "      border: none;\n",
              "      border-radius: 50%;\n",
              "      cursor: pointer;\n",
              "      display: none;\n",
              "      fill: #1967D2;\n",
              "      height: 32px;\n",
              "      padding: 0 0 0 0;\n",
              "      width: 32px;\n",
              "    }\n",
              "\n",
              "    .colab-df-convert:hover {\n",
              "      background-color: #E2EBFA;\n",
              "      box-shadow: 0px 1px 2px rgba(60, 64, 67, 0.3), 0px 1px 3px 1px rgba(60, 64, 67, 0.15);\n",
              "      fill: #174EA6;\n",
              "    }\n",
              "\n",
              "    [theme=dark] .colab-df-convert {\n",
              "      background-color: #3B4455;\n",
              "      fill: #D2E3FC;\n",
              "    }\n",
              "\n",
              "    [theme=dark] .colab-df-convert:hover {\n",
              "      background-color: #434B5C;\n",
              "      box-shadow: 0px 1px 3px 1px rgba(0, 0, 0, 0.15);\n",
              "      filter: drop-shadow(0px 1px 2px rgba(0, 0, 0, 0.3));\n",
              "      fill: #FFFFFF;\n",
              "    }\n",
              "  </style>\n",
              "\n",
              "      <script>\n",
              "        const buttonEl =\n",
              "          document.querySelector('#df-3005e6b5-73fe-4905-ad39-34278bedaf47 button.colab-df-convert');\n",
              "        buttonEl.style.display =\n",
              "          google.colab.kernel.accessAllowed ? 'block' : 'none';\n",
              "\n",
              "        async function convertToInteractive(key) {\n",
              "          const element = document.querySelector('#df-3005e6b5-73fe-4905-ad39-34278bedaf47');\n",
              "          const dataTable =\n",
              "            await google.colab.kernel.invokeFunction('convertToInteractive',\n",
              "                                                     [key], {});\n",
              "          if (!dataTable) return;\n",
              "\n",
              "          const docLinkHtml = 'Like what you see? Visit the ' +\n",
              "            '<a target=\"_blank\" href=https://colab.research.google.com/notebooks/data_table.ipynb>data table notebook</a>'\n",
              "            + ' to learn more about interactive tables.';\n",
              "          element.innerHTML = '';\n",
              "          dataTable['output_type'] = 'display_data';\n",
              "          await google.colab.output.renderOutput(dataTable, element);\n",
              "          const docLink = document.createElement('div');\n",
              "          docLink.innerHTML = docLinkHtml;\n",
              "          element.appendChild(docLink);\n",
              "        }\n",
              "      </script>\n",
              "    </div>\n",
              "  </div>\n",
              "  "
            ]
          },
          "metadata": {},
          "execution_count": 81
        }
      ],
      "source": [
        "x_test1.iloc[[99,88,22],:]"
      ]
    },
    {
      "cell_type": "code",
      "execution_count": null,
      "id": "7210bc8d",
      "metadata": {
        "scrolled": true,
        "id": "7210bc8d",
        "outputId": "424d5ecf-26c3-4441-e7e4-8b1c1f938c6b",
        "colab": {
          "base_uri": "https://localhost:8080/"
        }
      },
      "outputs": [
        {
          "output_type": "execute_result",
          "data": {
            "text/plain": [
              "6392    0.0\n",
              "9940    0.0\n",
              "3883    0.0\n",
              "Name: NDELAY, dtype: float64"
            ]
          },
          "metadata": {},
          "execution_count": 82
        }
      ],
      "source": [
        "y_test.iloc[[8,21,912]]"
      ]
    },
    {
      "cell_type": "code",
      "execution_count": null,
      "id": "020ed7e8",
      "metadata": {
        "id": "020ed7e8",
        "outputId": "d693ba4d-7aca-4aca-f49d-f9bbe1707f58",
        "colab": {
          "base_uri": "https://localhost:8080/"
        }
      },
      "outputs": [
        {
          "output_type": "execute_result",
          "data": {
            "text/plain": [
              "array([0., 0., 0.])"
            ]
          },
          "metadata": {},
          "execution_count": 83
        }
      ],
      "source": [
        "rf.predict(x_test1.iloc[[8,21,912],:])"
      ]
    },
    {
      "cell_type": "code",
      "execution_count": null,
      "id": "333242e4",
      "metadata": {
        "scrolled": true,
        "id": "333242e4",
        "outputId": "85fa837c-c09b-4fb9-9819-77432ffceb5e",
        "colab": {
          "base_uri": "https://localhost:8080/"
        }
      },
      "outputs": [
        {
          "output_type": "execute_result",
          "data": {
            "text/plain": [
              "0.0    1762\n",
              "1.0     223\n",
              "2.0     217\n",
              "3.0      23\n",
              "4.0      22\n",
              "dtype: int64"
            ]
          },
          "metadata": {},
          "execution_count": 84
        }
      ],
      "source": [
        "pd.DataFrame(dc.predict(x_test1)).value_counts()"
      ]
    },
    {
      "cell_type": "markdown",
      "id": "1029bef5",
      "metadata": {
        "id": "1029bef5"
      },
      "source": [
        "### LogisticRegression"
      ]
    },
    {
      "cell_type": "code",
      "execution_count": null,
      "id": "cb49c5c0",
      "metadata": {
        "id": "cb49c5c0",
        "outputId": "4e2c5cbb-ac2a-4633-e578-4acde41ff9ca",
        "colab": {
          "base_uri": "https://localhost:8080/"
        }
      },
      "outputs": [
        {
          "output_type": "stream",
          "name": "stderr",
          "text": [
            "/usr/local/lib/python3.7/dist-packages/sklearn/linear_model/_sag.py:354: ConvergenceWarning: The max_iter was reached which means the coef_ did not converge\n",
            "  ConvergenceWarning,\n"
          ]
        },
        {
          "output_type": "execute_result",
          "data": {
            "text/plain": [
              "0.8099688473520249"
            ]
          },
          "metadata": {},
          "execution_count": 85
        }
      ],
      "source": [
        "from sklearn.linear_model import LogisticRegression\n",
        "lr1=LogisticRegression(solver='sag')\n",
        "lr1.fit(x_train1,y_train)\n",
        "lr1.score(x_test1,y_test)"
      ]
    },
    {
      "cell_type": "code",
      "execution_count": null,
      "id": "a8cd3e7a",
      "metadata": {
        "id": "a8cd3e7a",
        "outputId": "6438f965-f55d-432d-fb69-dc90a0bf706b",
        "colab": {
          "base_uri": "https://localhost:8080/"
        }
      },
      "outputs": [
        {
          "output_type": "execute_result",
          "data": {
            "text/plain": [
              "0.0"
            ]
          },
          "metadata": {},
          "execution_count": 86
        }
      ],
      "source": [
        "lr1.predict(x_test1).sum()"
      ]
    },
    {
      "cell_type": "markdown",
      "id": "947f2f53",
      "metadata": {
        "id": "947f2f53"
      },
      "source": [
        "### SVM"
      ]
    },
    {
      "cell_type": "code",
      "execution_count": null,
      "id": "b5dd9da2",
      "metadata": {
        "id": "b5dd9da2",
        "outputId": "5bcb9b55-f676-425a-ecd4-f4137db593f5",
        "colab": {
          "base_uri": "https://localhost:8080/"
        }
      },
      "outputs": [
        {
          "output_type": "execute_result",
          "data": {
            "text/plain": [
              "0.7601246105919003"
            ]
          },
          "metadata": {},
          "execution_count": 87
        }
      ],
      "source": [
        "from sklearn.svm import SVC\n",
        "svm=SVC(kernel='sigmoid')\n",
        "svm.fit(x_train1,y_train)\n",
        "svm.score(x_test1,y_test)"
      ]
    },
    {
      "cell_type": "code",
      "execution_count": null,
      "id": "8c701961",
      "metadata": {
        "id": "8c701961",
        "outputId": "98b8b1c7-40ae-498b-9304-d1a0f2eca23d",
        "colab": {
          "base_uri": "https://localhost:8080/"
        }
      },
      "outputs": [
        {
          "output_type": "execute_result",
          "data": {
            "text/plain": [
              "0.0    2089\n",
              "2.0     158\n",
              "dtype: int64"
            ]
          },
          "metadata": {},
          "execution_count": 89
        }
      ],
      "source": [
        "pd.DataFrame(svm.predict(x_test1)).value_counts()"
      ]
    },
    {
      "cell_type": "code",
      "execution_count": null,
      "id": "4de2290f",
      "metadata": {
        "id": "4de2290f",
        "outputId": "a8a0a746-ce16-4f04-8492-92cb1662249b",
        "colab": {
          "base_uri": "https://localhost:8080/"
        }
      },
      "outputs": [
        {
          "output_type": "execute_result",
          "data": {
            "text/plain": [
              "NDELAY\n",
              "0.0       1820\n",
              "2.0        220\n",
              "1.0        176\n",
              "4.0         22\n",
              "3.0          9\n",
              "dtype: int64"
            ]
          },
          "metadata": {},
          "execution_count": 91
        }
      ],
      "source": [
        "pd.DataFrame(y_test).value_counts()"
      ]
    },
    {
      "cell_type": "markdown",
      "id": "263105dd",
      "metadata": {
        "id": "263105dd"
      },
      "source": [
        "### KNearestNeighborsClassifie"
      ]
    },
    {
      "cell_type": "code",
      "execution_count": null,
      "id": "7d122c3d",
      "metadata": {
        "id": "7d122c3d",
        "outputId": "a6247d4e-ee38-4234-bd98-0dfcf6950aab",
        "colab": {
          "base_uri": "https://localhost:8080/"
        }
      },
      "outputs": [
        {
          "output_type": "execute_result",
          "data": {
            "text/plain": [
              "0.7939474855362706"
            ]
          },
          "metadata": {},
          "execution_count": 92
        }
      ],
      "source": [
        "from sklearn.neighbors import KNeighborsClassifier\n",
        "knn=KNeighborsClassifier(n_neighbors=5)\n",
        "knn.fit(x_train1,y_train)\n",
        "knn.score(x_test1,y_test)"
      ]
    },
    {
      "cell_type": "code",
      "execution_count": null,
      "id": "b65f9049",
      "metadata": {
        "id": "b65f9049",
        "outputId": "c0c245e0-0b31-46c1-9172-64176a2ddd3e",
        "colab": {
          "base_uri": "https://localhost:8080/"
        }
      },
      "outputs": [
        {
          "output_type": "execute_result",
          "data": {
            "text/plain": [
              "0.0    2166\n",
              "2.0      48\n",
              "1.0      33\n",
              "dtype: int64"
            ]
          },
          "metadata": {},
          "execution_count": 94
        }
      ],
      "source": [
        "pd.DataFrame(knn.predict(x_test1)).value_counts()"
      ]
    },
    {
      "cell_type": "code",
      "execution_count": null,
      "id": "198cadb1",
      "metadata": {
        "id": "198cadb1",
        "outputId": "c2c77446-f032-4e58-e3a9-aa2508feb009",
        "colab": {
          "base_uri": "https://localhost:8080/"
        }
      },
      "outputs": [
        {
          "output_type": "execute_result",
          "data": {
            "text/plain": [
              "array([0., 0., 0.])"
            ]
          },
          "metadata": {},
          "execution_count": 95
        }
      ],
      "source": [
        "knn.predict(x_test1.iloc[[8,21,912],:])"
      ]
    },
    {
      "cell_type": "markdown",
      "id": "b7deb78c",
      "metadata": {
        "id": "b7deb78c"
      },
      "source": [
        "##### we evalute only Random Forest and Decision Tree bacause other models are less accuracy and not predicting correctly"
      ]
    },
    {
      "cell_type": "markdown",
      "id": "f786956a",
      "metadata": {
        "id": "f786956a"
      },
      "source": [
        "## Evaluation Of Random Forest"
      ]
    },
    {
      "cell_type": "code",
      "execution_count": null,
      "id": "b184c82d",
      "metadata": {
        "id": "b184c82d",
        "outputId": "6af4e6b3-981d-4fa4-97ba-20124da5598b",
        "colab": {
          "base_uri": "https://localhost:8080/",
          "height": 443
        }
      },
      "outputs": [
        {
          "output_type": "stream",
          "name": "stdout",
          "text": [
            "Testing Sensitivity for Random Forest 0.9169732002101945\n",
            "Testing Specificity for Random Forest 0.23255813953488372\n",
            "Testing Precision for Random Forest 0.9814398200224972\n",
            "Testing accuracy for Random Forest 0.7903871829105474\n"
          ]
        },
        {
          "output_type": "display_data",
          "data": {
            "text/plain": [
              "<Figure size 720x432 with 2 Axes>"
            ],
            "image/png": "[encoded data removed]"
          },
          "metadata": {
            "needs_background": "light"
          }
        }
      ],
      "source": [
        "from sklearn.metrics import confusion_matrix,accuracy_score,classification_report\n",
        "pred=rf.predict(x_test1)\n",
        "cm=confusion_matrix(y_test, pred)\n",
        "plt.figure(figsize=(10,6))\n",
        "sns.heatmap(cm, annot=True,cmap='winter',linewidths=0.3, linecolor='black',annot_kws={\"size\": 20})\n",
        "TP=cm[0][0]\n",
        "TN=cm[1][1]\n",
        "FN=cm[1][0]\n",
        "FP=cm[0][1]\n",
        "#print(round(accuracy_score(prediction3,y_test)*100,2))\n",
        "#print('Testing Accuracy for knn',(TP+TN)/(TP+TN+FN+FP))\n",
        "print('Testing Sensitivity for Random Forest',(TP/(TP+FN)))\n",
        "print('Testing Specificity for Random Forest',(TN/(TN+FP)))\n",
        "print('Testing Precision for Random Forest',(TP/(TP+FP)))\n",
        "print('Testing accuracy for Random Forest',accuracy_score(y_test, pred))"
      ]
    },
    {
      "cell_type": "code",
      "execution_count": null,
      "id": "4f59c12a",
      "metadata": {
        "id": "4f59c12a",
        "outputId": "afa72f4f-334b-4093-9df0-921654bba191",
        "colab": {
          "base_uri": "https://localhost:8080/"
        }
      },
      "outputs": [
        {
          "output_type": "stream",
          "name": "stdout",
          "text": [
            "              precision    recall  f1-score   support\n",
            "\n",
            "         0.0       0.82      0.96      0.89      1820\n",
            "         1.0       0.20      0.06      0.09       176\n",
            "         2.0       0.30      0.10      0.14       220\n",
            "         3.0       0.00      0.00      0.00         9\n",
            "         4.0       0.00      0.00      0.00        22\n",
            "\n",
            "    accuracy                           0.79      2247\n",
            "   macro avg       0.26      0.22      0.22      2247\n",
            "weighted avg       0.71      0.79      0.74      2247\n",
            "\n"
          ]
        }
      ],
      "source": [
        "print(classification_report(y_test,pred))#RandomForest"
      ]
    },
    {
      "cell_type": "markdown",
      "id": "3ef9a12b",
      "metadata": {
        "id": "3ef9a12b"
      },
      "source": [
        "## Evaluation Of Decission Tree"
      ]
    },
    {
      "cell_type": "code",
      "execution_count": null,
      "id": "8c3a53b8",
      "metadata": {
        "id": "8c3a53b8",
        "outputId": "5db8e86c-19d4-44d6-ad2f-5e95d5fcef07",
        "colab": {
          "base_uri": "https://localhost:8080/",
          "height": 461
        }
      },
      "outputs": [
        {
          "output_type": "stream",
          "name": "stdout",
          "text": [
            "Testing Accuracy for Decision Tree 0.8320355951056729\n",
            "Testing Sensitivity for Decision Tree 0.9201497192763568\n",
            "Testing Specificity for Decision Tree 0.1076923076923077\n",
            "Testing Precision for Decision Tree 0.8944815039417829\n",
            "Testing accuracy for Decision Tree 0.6875834445927904\n"
          ]
        },
        {
          "output_type": "display_data",
          "data": {
            "text/plain": [
              "<Figure size 720x432 with 2 Axes>"
            ],
            "image/png": "[encoded data removed]"
          },
          "metadata": {
            "needs_background": "light"
          }
        }
      ],
      "source": [
        "pred1=dc.predict(x_test1)\n",
        "cm1=confusion_matrix(y_test, pred1)\n",
        "plt.figure(figsize=(10,6))\n",
        "sns.heatmap(cm1, annot=True,cmap='winter',linewidths=0.3, linecolor='black',annot_kws={\"size\": 20})\n",
        "TP=cm1[0][0]\n",
        "TN=cm1[1][1]\n",
        "FN=cm1[1][0]\n",
        "FP=cm1[0][1]\n",
        "#print(round(accuracy_score(prediction3,y_test)*100,2))\n",
        "print('Testing Accuracy for Decision Tree',(TP+TN)/(TP+TN+FN+FP))\n",
        "print('Testing Sensitivity for Decision Tree',(TP/(TP+FN)))\n",
        "print('Testing Specificity for Decision Tree',(TN/(TN+FP)))\n",
        "print('Testing Precision for Decision Tree',(TP/(TP+FP)))\n",
        "print('Testing accuracy for Decision Tree',accuracy_score(y_test, pred1))"
      ]
    },
    {
      "cell_type": "code",
      "execution_count": null,
      "id": "27e0c0e9",
      "metadata": {
        "id": "27e0c0e9",
        "outputId": "371e18a4-6ffe-4d6c-a75e-01c8feaf5caf",
        "colab": {
          "base_uri": "https://localhost:8080/"
        }
      },
      "outputs": [
        {
          "output_type": "stream",
          "name": "stdout",
          "text": [
            "              precision    recall  f1-score   support\n",
            "\n",
            "         0.0       0.84      0.81      0.82      1820\n",
            "         1.0       0.09      0.12      0.11       176\n",
            "         2.0       0.21      0.20      0.21       220\n",
            "         3.0       0.00      0.00      0.00         9\n",
            "         4.0       0.18      0.18      0.18        22\n",
            "\n",
            "    accuracy                           0.69      2247\n",
            "   macro avg       0.26      0.26      0.26      2247\n",
            "weighted avg       0.71      0.69      0.70      2247\n",
            "\n"
          ]
        }
      ],
      "source": [
        "print(classification_report(y_test,pred1))"
      ]
    },
    {
      "cell_type": "code",
      "execution_count": null,
      "id": "7d77ed38",
      "metadata": {
        "id": "7d77ed38"
      },
      "outputs": [],
      "source": [
        "import pickle"
      ]
    },
    {
      "cell_type": "code",
      "execution_count": null,
      "id": "42dd3b96",
      "metadata": {
        "id": "42dd3b96"
      },
      "outputs": [],
      "source": [
        "pickle.dump(dc,open(\"dcmodel.pkl\",'wb'))"
      ]
    },
    {
      "cell_type": "code",
      "execution_count": null,
      "id": "9864a9c5",
      "metadata": {
        "id": "9864a9c5"
      },
      "outputs": [],
      "source": []
    }
  ],
  "metadata": {
    "kernelspec": {
      "display_name": "Python 3 (ipykernel)",
      "language": "python",
      "name": "python3"
    },
    "language_info": {
      "codemirror_mode": {
        "name": "ipython",
        "version": 3
      },
      "file_extension": ".py",
      "mimetype": "text/x-python",
      "name": "python",
      "nbconvert_exporter": "python",
      "pygments_lexer": "ipython3",
      "version": "3.9.7"
    },
    "colab": {
      "provenance": [],
      "collapsed_sections": [
        "89949f1f",
        "c87d6615",
        "8ae9c4c4",
        "9e25d10d",
        "a9f68f61",
        "bfc69a40",
        "36d903ad",
        "1029bef5",
        "947f2f53",
        "263105dd"
      ]
    }
  },
  "nbformat": 4,
  "nbformat_minor": 5
}